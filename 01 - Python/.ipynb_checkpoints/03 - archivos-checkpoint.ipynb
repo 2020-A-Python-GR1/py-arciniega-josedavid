{
 "cells": [
  {
   "cell_type": "code",
   "execution_count": 18,
   "metadata": {},
   "outputs": [
    {
     "name": "stdout",
     "output_type": "stream",
     "text": [
      "Buenas Tardes\n",
      "\n",
      "<class 'str'>\n",
      "['\\n', 'Buenas Noches']\n",
      "<class 'list'>\n"
     ]
    }
   ],
   "source": [
    "\n",
    "try:\n",
    "    path = \"./frases.txt\"\n",
    "    archivo_abierto = open(path)\n",
    "    \n",
    "    linea_uno = archivo_abierto.readline()\n",
    "    print(linea_uno)\n",
    "    print(type(linea_uno))\n",
    "    \n",
    "    lista_lineas = archivo_abierto.readlines()\n",
    "    print(lista_lineas)\n",
    "    print(type(lista_lineas))\n",
    "    \n",
    "    archivo_abierto.close()\n",
    "    \n",
    "except Exception as Error:\n",
    "    print(\"Error leyendo archivo\")"
   ]
  },
  {
   "cell_type": "code",
   "execution_count": 19,
   "metadata": {},
   "outputs": [],
   "source": [
    "# Sobre Escribe en el Archivo\n",
    "try:\n",
    "    path = \"./frases.txt\"\n",
    "    archivo_abierto = open(path, 'w') # w -> write\n",
    "    archivo_abierto.write(\"Buenas Tardes\")\n",
    "    archivo_abierto.close()\n",
    "except Exception as Error:\n",
    "    print(\"Error leyendo archivo\")"
   ]
  },
  {
   "cell_type": "code",
   "execution_count": 20,
   "metadata": {},
   "outputs": [],
   "source": [
    "# Escribe a continuacion\n",
    "try:\n",
    "    path = \"./frases.txt\"\n",
    "    archivo_abierto = open(path, 'a') # a -> append\n",
    "    archivo_abierto.write(\"\\nBuenas Noches\")  # \\n -> salto de linea\n",
    "    archivo_abierto.close()\n",
    "except Exception as Error:\n",
    "    print(\"Error leyendo archivo\")"
   ]
  },
  {
   "cell_type": "code",
   "execution_count": null,
   "metadata": {},
   "outputs": [],
   "source": []
  }
 ],
 "metadata": {
  "kernelspec": {
   "display_name": "Python 3",
   "language": "python",
   "name": "python3"
  },
  "language_info": {
   "codemirror_mode": {
    "name": "ipython",
    "version": 3
   },
   "file_extension": ".py",
   "mimetype": "text/x-python",
   "name": "python",
   "nbconvert_exporter": "python",
   "pygments_lexer": "ipython3",
   "version": "3.7.6"
  }
 },
 "nbformat": 4,
 "nbformat_minor": 4
}
