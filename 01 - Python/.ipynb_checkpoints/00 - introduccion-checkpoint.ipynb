{
 "cells": [
  {
   "cell_type": "markdown",
   "metadata": {},
   "source": [
    "# Título 1 - PYTHON\n",
    "![alt text](https://upload.wikimedia.org/wikipedia/commons/0/0a/Python.svg)\n",
    "## Título 2\n",
    "![alt text](https://github.com/adam-p/markdown-here/raw/master/src/common/images/icon48.png \"Logo Title Text 1\")\n",
    "### Título 3\n",
    "![alt text](https://upload.wikimedia.org/wikipedia/commons/3/38/Jupyter_logo.svg)\n",
    "#### Título 4\n",
    "![alt text](https://encrypted-tbn0.gstatic.com/images?q=tbn%3AANd9GcTLw4qWr-NokZ9ORlV_wjWzLb6EVUYuHD_8yw&usqp=CAU)\n",
    "#### Título 4\n",
    "##### Título 5\n",
    "###### Título 6 \n",
    "\n",
    "```javascript\n",
    "var s = \"JavaScript syntax highlighting\";\n",
    "alert(s);\n",
    "```\n",
    " \n",
    "```python\n",
    "s = \"Python syntax highlighting\"\n",
    "print s\n",
    "```\n",
    " \n",
    "```\n",
    "No language indicated, so no syntax highlighting. \n",
    "But let's throw in a <b>tag</b>.\n",
    "```\n",
    "\n"
   ]
  },
  {
   "cell_type": "code",
   "execution_count": 6,
   "metadata": {},
   "outputs": [
    {
     "name": "stdout",
     "output_type": "stream",
     "text": [
      "Hola Mundo\n"
     ]
    }
   ],
   "source": [
    "print (\"Hola Mundo\")"
   ]
  },
  {
   "cell_type": "code",
   "execution_count": 11,
   "metadata": {},
   "outputs": [
    {
     "name": "stdout",
     "output_type": "stream",
     "text": [
      "<class 'int'>\n",
      "<class 'float'>\n",
      "<class 'str'>\n",
      "<class 'str'>\n",
      "<class 'str'>\n",
      "<class 'bool'>\n",
      "<class 'bool'>\n",
      "<class 'NoneType'>\n",
      "<class 'float'>\n"
     ]
    }
   ],
   "source": [
    "# PYTHON es NO TIPADO = No declaras Nunca el tipo de variable\n",
    "# Variable Primitivas\n",
    "entero = 4\n",
    "decimal = 1.1\n",
    "nombre = \"Jose\"\n",
    "segundo_nombre = \"David\" # segundoNombre X -> Está MAL nombrada\n",
    "apelllido = 'Arcinega'\n",
    "estado_civil = False\n",
    "estudia = True\n",
    "hijos = None # vacio/nada/nulo\n",
    "print(type(entero)) # int\n",
    "print(type(decimal)) #float\n",
    "print(type(nombre)) # str\n",
    "print(type(segundo_nombre)) # str\n",
    "print(type(apelllido)) # str\n",
    "print(type(estado_civil)) # bool\n",
    "print(type(estudia)) # bool\n",
    "print(type(hijos)) # NoneType\n",
    "print(type(float('nan'))) # float Not A Number nan"
   ]
  },
  {
   "cell_type": "code",
   "execution_count": 82,
   "metadata": {},
   "outputs": [
    {
     "name": "stdout",
     "output_type": "stream",
     "text": [
      "\n",
      "ESTE ES UN EJEMPLO DE CADENA DE TEXTO:\n",
      "\n",
      "Primera linea del ejemplo de una cadena de texto \n",
      "Segunda linea del ejemplo de una cadena de texto \n",
      "Tercera linea del ejemplo de una cadena de texto \n",
      ".\n",
      ".\n",
      ".\n",
      "\n",
      "\n",
      "<class 'str'>\n"
     ]
    }
   ],
   "source": [
    "cadena_de_texto = \"\"\"\n",
    "ESTE ES UN EJEMPLO DE CADENA DE TEXTO:\n",
    "\n",
    "Primera linea del ejemplo de una cadena de texto \n",
    "Segunda linea del ejemplo de una cadena de texto \n",
    "Tercera linea del ejemplo de una cadena de texto \n",
    ".\n",
    ".\n",
    ".\n",
    "\n",
    "\"\"\"\n",
    "print(cadena_de_texto)\n",
    "print(type(cadena_de_texto))"
   ]
  },
  {
   "cell_type": "code",
   "execution_count": 12,
   "metadata": {},
   "outputs": [
    {
     "name": "stdout",
     "output_type": "stream",
     "text": [
      "4\n",
      "David\n"
     ]
    }
   ],
   "source": [
    "print(entero)\n",
    "entero = decimal\n",
    "entero = estado_civil\n",
    "entero = nombre\n",
    "entero = segundo_nombre\n",
    "print (entero)"
   ]
  },
  {
   "cell_type": "code",
   "execution_count": 159,
   "metadata": {},
   "outputs": [
    {
     "name": "stdout",
     "output_type": "stream",
     "text": [
      "diccionario_completo =  {'nombre': 'Jose', 'edad': 22, 'cursos': ['Python', 'Django', 'JavaScript']}\n",
      "valor_nombre =  Jose\n",
      "valor_edad = 22\n",
      "valor_cursos =  ['Python', 'Django', 'JavaScript']\n",
      "Truty\n",
      "Falsy\n",
      "Falsy\n",
      "Truty\n",
      "Falsy\n",
      "Truty\n",
      "Truty\n",
      "Truty\n",
      "Falsy\n",
      "Falsy\n",
      "Truty\n",
      "\n",
      "Falsy\n",
      "\n",
      "Truty\n",
      "\n",
      "Falsy\n",
      "\n",
      "Truty\n"
     ]
    }
   ],
   "source": [
    "# CONDICIONALES\n",
    "# Truty - Falsy\n",
    "tuplas = (1,2,3) # Arreglos que NO se pueden modificar\n",
    "listas = [4,5,6] # Arreglos que SI se pueden modificar\n",
    "diccionario = {\n",
    "    'nombre' : 'Jose',\n",
    "    'edad' : 22,\n",
    "    'cursos': ['Python','Django','JavaScript']\n",
    "}\n",
    "\n",
    "print (\"diccionario_completo = \",diccionario)\n",
    "print (\"valor_nombre = \",diccionario['nombre'])\n",
    "print (\"valor_edad =\",diccionario['edad'])\n",
    "print (\"valor_cursos = \",diccionario['cursos'])\n",
    "\n",
    "\n",
    "if('Jose'): # Truty\n",
    "    #...\n",
    "    #...\n",
    "    print ('Truty')\n",
    "else:\n",
    "    #...\n",
    "    #...\n",
    "    print ('Falsy')\n",
    "    \n",
    "    \n",
    "if(''): # Falsy\n",
    "    print ('Truty')\n",
    "else:\n",
    "    print ('Falsy')\n",
    "    \n",
    "nulo = None \n",
    "if(nulo): # Falsy\n",
    "    print ('Truty')\n",
    "else:\n",
    "    print ('Falsy')\n",
    "\n",
    "# NUMEROS\n",
    "if(-1): # Truty\n",
    "    print ('Truty')\n",
    "else:\n",
    "    print ('Falsy')\n",
    "    \n",
    "if(0): # Falsy\n",
    "    print ('Truty')\n",
    "else:\n",
    "    print ('Falsy')\n",
    "    \n",
    "if(1): # Truty\n",
    "    print ('Truty')\n",
    "else:\n",
    "    print ('Falsy')\n",
    "\n",
    "# DECIMALES\n",
    "if(-1.1): # Truty\n",
    "    print('Truty')\n",
    "else:\n",
    "    print('Falsy')\n",
    "\n",
    "if(1.2): # Truty\n",
    "    print('Truty')\n",
    "else:\n",
    "    print('Falsy')\n",
    "    \n",
    "if(0.0): # Falsy\n",
    "    print('Truty')\n",
    "else:\n",
    "    print('Falsy')\n",
    "\n",
    "\n",
    "# Tuplas vacias    \n",
    "if(()): # Falsy\n",
    "    print('Truty')\n",
    "else:\n",
    "    print('Falsy')\n",
    "\n",
    "# Tuplas llenas\n",
    "if((1,2,3)): # Truty\n",
    "    print('Truty')\n",
    "else:\n",
    "    print('Falsy')\n",
    "    \n",
    "# listas vacias\n",
    "if([]): # Falsy\n",
    "    print('Truty')\n",
    "else:\n",
    "    print('\\nFalsy')\n",
    "    \n",
    "# Listas llenas\n",
    "if([1,2,3]): # Truty\n",
    "    print('\\nTruty')\n",
    "else:\n",
    "    print('Falsy')\n",
    "    \n",
    "# Diccionarios vacios\n",
    "if({}): # Falsy\n",
    "    print('Truty')\n",
    "else:\n",
    "    print('\\nFalsy')\n",
    "    \n",
    "# Diccionarios llenos\n",
    "if({'nombre' : \"Jose\"}): # Truty\n",
    "    print('\\nTruty')\n",
    "else:\n",
    "    print('Falsy')"
   ]
  },
  {
   "cell_type": "code",
   "execution_count": 2,
   "metadata": {},
   "outputs": [],
   "source": [
    "arreglo = [1, 2, 3, 4, 5, 6, 7, 8, 9, 10] # indices: 0 - 9"
   ]
  },
  {
   "cell_type": "code",
   "execution_count": 27,
   "metadata": {},
   "outputs": [
    {
     "data": {
      "text/plain": [
       "(6, 7, 8)"
      ]
     },
     "execution_count": 27,
     "metadata": {},
     "output_type": "execute_result"
    }
   ],
   "source": [
    "arreglo[0:3] # [0,3[ -> excluimos al indice 3  -> indice 3 = 4 \n",
    "arreglo[5:]  # Hasta el Final\n",
    "arreglo[:7]  # Desde el inicio\n",
    "arreglo[-10] # Indice negativo empieza desde el final\n",
    "arreglo[3:-2] \n",
    "arreglo[-8:8]\n",
    "arreglo[-4:-1]\n",
    "arreglo[-7:] # Hasta el Final\n",
    "arreglo[:-3] # Desde el inicio\n",
    "arreglo[:]\n",
    "\n",
    "arreglo_tupla = (1, 2, 3, 4, 5, 6, 7, 8, 9, 10, 11, 12)\n",
    "arreglo_tupla[5:8]\n"
   ]
  },
  {
   "cell_type": "code",
   "execution_count": 29,
   "metadata": {},
   "outputs": [
    {
     "data": {
      "text/plain": [
       "['Python', 'Django', 'JavaScript']"
      ]
     },
     "execution_count": 29,
     "metadata": {},
     "output_type": "execute_result"
    }
   ],
   "source": [
    "diccionario = {\n",
    "    'nombre' : 'Jose',\n",
    "    'edad' : 25,\n",
    "    'sueldo' : 1.2,\n",
    "    'cursos': ['Python','Django','JavaScript']\n",
    "}\n",
    "# diccionario[\"nombre\"]\n",
    "# diccionario[\"sueldo\"]\n",
    "diccionario[\"cursos\"]"
   ]
  },
  {
   "cell_type": "code",
   "execution_count": 42,
   "metadata": {},
   "outputs": [
    {
     "name": "stdout",
     "output_type": "stream",
     "text": [
      "(1, 2, 3, 4, 5, 6, 7, 8, 9, 10, 11, 12)\n",
      "\n",
      " True\n",
      "<class 'bool'>\n",
      "\n",
      " False\n",
      "<class 'bool'>\n"
     ]
    }
   ],
   "source": [
    "print (arreglo_tupla)\n",
    "\n",
    "10 in arreglo_tupla # in -> averiguo si está dentro de un arreglo\n",
    "\n",
    "print(\"\\n\", 10 in arreglo_tupla) # True\n",
    "print(type(10 in arreglo_tupla))\n",
    "\n",
    "print(\"\\n\",32 in arreglo_tupla) # False\n",
    "print(type(32 in arreglo_tupla))\n",
    "\n",
    "# in me devuelve un bool"
   ]
  },
  {
   "cell_type": "code",
   "execution_count": 97,
   "metadata": {},
   "outputs": [
    {
     "name": "stdout",
     "output_type": "stream",
     "text": [
      "{'nombre': 'Jose', 'edad': 22, 'cursos': ['Python', 'Django', 'JavaScript']}\n",
      "\n",
      " True\n",
      "\n",
      " False\n",
      "\n",
      " True\n",
      "\n",
      " True\n"
     ]
    }
   ],
   "source": [
    "print(diccionario)\n",
    "\"nombre\" in diccionario # Si Existe llave -> True **POR DEFECTO**\n",
    "print(\"\\n\",\"nombre\" in diccionario)\n",
    "\n",
    "print(\"\\n\",\"Jose\" in diccionario) # Valor -> False **POR DEFECTO**\n",
    "\n",
    "print(\"\\n\",\"nombre\" in diccionario.keys()) #-> True\n",
    "\n",
    "print(\"\\n\",\"Jose\" in diccionario.values()) #-> True\n",
    "# in me devuelve un bool"
   ]
  },
  {
   "cell_type": "code",
   "execution_count": 31,
   "metadata": {},
   "outputs": [
    {
     "name": "stdout",
     "output_type": "stream",
     "text": [
      "10\n",
      "12\n",
      "4\n"
     ]
    }
   ],
   "source": [
    "len(arreglo) # len me devuelve la longitud del arreglo (lista, tupla o diccionario)\n",
    "print (len (arreglo))\n",
    "\n",
    "len(arreglo_tupla)\n",
    "print (len (arreglo_tupla))\n",
    "\n",
    "len(diccionario)\n",
    "print (len (diccionario))"
   ]
  },
  {
   "cell_type": "code",
   "execution_count": 4,
   "metadata": {},
   "outputs": [
    {
     "name": "stdout",
     "output_type": "stream",
     "text": [
      "[1, 2, 3, 4, 5, 6, 7, 8, 9, 10]\n",
      "[1996, 'hola', 'mundo', 4, 5, 6, 7, 8, None, 0.0]\n"
     ]
    }
   ],
   "source": [
    "# arreglo_tupla[0] = 2 # NO puedo cambiar los elementos de las tuplas\n",
    "\n",
    "arreglo = [1, 2, 3, 4, 5, 6, 7, 8, 9, 10] \n",
    "print(arreglo)\n",
    "\n",
    "arreglo [0] = 1996 # SI puedo cambiar los elementos de las listas\n",
    "arreglo [1] = \"hola\" \n",
    "arreglo [2] = 'mundo'\n",
    "\n",
    "arreglo[8]= None\n",
    "arreglo [9] = 0.0 \n",
    "print(arreglo)"
   ]
  },
  {
   "cell_type": "code",
   "execution_count": 5,
   "metadata": {},
   "outputs": [
    {
     "data": {
      "text/plain": [
       "[1996, 'hola', 'mundo', 4, 5, 6, 7, 8, None, 0.0]"
      ]
     },
     "execution_count": 5,
     "metadata": {},
     "output_type": "execute_result"
    }
   ],
   "source": [
    "arreglo"
   ]
  },
  {
   "cell_type": "code",
   "execution_count": 6,
   "metadata": {},
   "outputs": [],
   "source": [
    "# arreglo.pop\n",
    "# arreglo.append\n",
    "# arreglo.insert"
   ]
  },
  {
   "cell_type": "code",
   "execution_count": 7,
   "metadata": {},
   "outputs": [
    {
     "name": "stdout",
     "output_type": "stream",
     "text": [
      "1996\n",
      "hola\n",
      "mundo\n",
      "4\n",
      "5\n",
      "6\n",
      "7\n",
      "8\n",
      "None\n",
      "0.0\n"
     ]
    }
   ],
   "source": [
    "# RECORRER ELEMENTOS DE UN ARREGLO (LISTA - TPLA - DICCIONARIO)\n",
    "for i in arreglo: # i = elemento en e l indice de la LISTA\n",
    "    print(i)"
   ]
  },
  {
   "cell_type": "code",
   "execution_count": 60,
   "metadata": {},
   "outputs": [
    {
     "name": "stdout",
     "output_type": "stream",
     "text": [
      "1\n",
      "2\n",
      "3\n",
      "4\n",
      "5\n",
      "6\n",
      "7\n",
      "8\n",
      "9\n",
      "10\n",
      "11\n",
      "12\n"
     ]
    }
   ],
   "source": [
    "# RECORRER ELEMENTOS DE UN ARREGLO (LISTA - TPLA - DICCIONARIO)\n",
    "for i in arreglo_tupla: # i = elemento en elindice de la TUPLA\n",
    "    print(indice_tuplaice_tupla)"
   ]
  },
  {
   "cell_type": "code",
   "execution_count": 72,
   "metadata": {},
   "outputs": [
    {
     "name": "stdout",
     "output_type": "stream",
     "text": [
      "nombre\n",
      "edad\n",
      "sueldo\n",
      "cursos\n"
     ]
    }
   ],
   "source": [
    "# RECORRER ELEMENTOS DE UN ARREGLO (LISTA - TPLA - DICCIONARIO)\n",
    "for key_diccionario in diccionario:\n",
    "    print(key_diccionario)"
   ]
  },
  {
   "cell_type": "code",
   "execution_count": 70,
   "metadata": {},
   "outputs": [
    {
     "name": "stdout",
     "output_type": "stream",
     "text": [
      "0\n",
      "1\n",
      "2\n",
      "3\n",
      "4\n",
      "5\n",
      "6\n",
      "7\n",
      "8\n",
      "9\n"
     ]
    }
   ],
   "source": [
    "contador = 0\n",
    "while contador < 10:\n",
    "    print(contador)\n",
    "    contador += 1"
   ]
  },
  {
   "cell_type": "code",
   "execution_count": 135,
   "metadata": {},
   "outputs": [
    {
     "data": {
      "text/plain": [
       "{True: 12.2,\n",
       " False: 'Arciniega',\n",
       " 1.1: 89,\n",
       " 'edad': 22,\n",
       " 'mascotas': [{'nombre_mascota1': 'Rafaelo', 'nombre_mascota2': 'Yaya'}],\n",
       " None: None}"
      ]
     },
     "execution_count": 135,
     "metadata": {},
     "output_type": "execute_result"
    }
   ],
   "source": [
    "# MAL ejemplo de DICCIONARIO\n",
    "jose = {\n",
    "    True : \"Jose\",\n",
    "    False : \"Arciniega\",\n",
    "    1 : 12.2,\n",
    "    1.1 : 89,\n",
    "    'edad' : 22,\n",
    "    'mascotas' : [{'nombre_mascota1':\"Rafaelo\", 'nombre_mascota2':\"Yaya\"}] , # lista de diccionario\n",
    "    None: None\n",
    "}\n",
    "jose\n",
    "# DICCIONARIO CORRECTO -> llaves = string : valores = cualquier valor"
   ]
  },
  {
   "cell_type": "code",
   "execution_count": 137,
   "metadata": {},
   "outputs": [
    {
     "name": "stdout",
     "output_type": "stream",
     "text": [
      "Arciniega\n",
      "\n",
      " 22\n",
      "\n",
      " [{'nombre_mascota1': 'Rafaelo', 'nombre_mascota2': 'Yaya'}]\n",
      "\n",
      " Rafaelo\n",
      "\n",
      " Yaya\n"
     ]
    }
   ],
   "source": [
    "print(jose[False])\n",
    "print('\\n',jose['edad'])\n",
    "print('\\n',jose['mascotas'])\n",
    "print('\\n',jose['mascotas'][0][\"nombre_mascota1\"])\n",
    "print('\\n',jose['mascotas'][0][\"nombre_mascota2\"])"
   ]
  },
  {
   "cell_type": "code",
   "execution_count": 138,
   "metadata": {},
   "outputs": [],
   "source": [
    "# DICCIONARIOS: llaves = Valores \n",
    "jose['edad'] = 26 # cambiar valor de una llave\n",
    "jose['apellido'] = 'Arciniega' # agregar una llave con su respectivo valor\n",
    "jose['mascotas'][0][\"nombre_mascota\"] = 'Panda'# añadir un valor a una llave tipo diccionario"
   ]
  },
  {
   "cell_type": "code",
   "execution_count": 139,
   "metadata": {},
   "outputs": [
    {
     "data": {
      "text/plain": [
       "{True: 12.2,\n",
       " False: 'Arciniega',\n",
       " 1.1: 89,\n",
       " 'edad': 26,\n",
       " 'mascotas': [{'nombre_mascota1': 'Rafaelo',\n",
       "   'nombre_mascota2': 'Yaya',\n",
       "   'nombre_mascota': 'Panda'}],\n",
       " None: None,\n",
       " 'apellido': 'Arciniega'}"
      ]
     },
     "execution_count": 139,
     "metadata": {},
     "output_type": "execute_result"
    }
   ],
   "source": [
    "jose"
   ]
  },
  {
   "cell_type": "code",
   "execution_count": 140,
   "metadata": {},
   "outputs": [
    {
     "name": "stdout",
     "output_type": "stream",
     "text": [
      "dict_keys([True, False, 1.1, 'edad', 'mascotas', None, 'apellido'])\n",
      "<class 'dict_keys'>\n"
     ]
    }
   ],
   "source": [
    "print(jose.keys())\n",
    "print(type(jose.keys()))"
   ]
  },
  {
   "cell_type": "code",
   "execution_count": 141,
   "metadata": {},
   "outputs": [
    {
     "name": "stdout",
     "output_type": "stream",
     "text": [
      "dict_values([12.2, 'Arciniega', 89, 26, [{'nombre_mascota1': 'Rafaelo', 'nombre_mascota2': 'Yaya', 'nombre_mascota': 'Panda'}], None, 'Arciniega'])\n",
      "<class 'dict_values'>\n"
     ]
    }
   ],
   "source": [
    "print(jose.values())\n",
    "print(type(jose.values()))"
   ]
  },
  {
   "cell_type": "code",
   "execution_count": 126,
   "metadata": {},
   "outputs": [
    {
     "name": "stdout",
     "output_type": "stream",
     "text": [
      "True\n",
      "False\n",
      "1.1\n",
      "edad\n",
      "mascotas\n",
      "None\n",
      "apellido\n"
     ]
    }
   ],
   "source": [
    "for llave in jose.keys():\n",
    "    print (llave)"
   ]
  },
  {
   "cell_type": "code",
   "execution_count": 127,
   "metadata": {},
   "outputs": [
    {
     "name": "stdout",
     "output_type": "stream",
     "text": [
      "12.2\n",
      "Arciniega\n",
      "89\n",
      "26\n",
      "[{'nombre_mascota': 'Panda'}]\n",
      "None\n",
      "Arciniega\n"
     ]
    }
   ],
   "source": [
    "for valor in jose.values():\n",
    "    print (valor)"
   ]
  },
  {
   "cell_type": "code",
   "execution_count": 150,
   "metadata": {},
   "outputs": [
    {
     "data": {
      "text/plain": [
       "True"
      ]
     },
     "execution_count": 150,
     "metadata": {},
     "output_type": "execute_result"
    }
   ],
   "source": [
    "# V o V -> V\n",
    "1 == 1 or 2 == 2"
   ]
  },
  {
   "cell_type": "code",
   "execution_count": 151,
   "metadata": {},
   "outputs": [
    {
     "data": {
      "text/plain": [
       "True"
      ]
     },
     "execution_count": 151,
     "metadata": {},
     "output_type": "execute_result"
    }
   ],
   "source": [
    "# V o F -> V\n",
    "1 == 1 or 2 != 2"
   ]
  },
  {
   "cell_type": "code",
   "execution_count": 152,
   "metadata": {},
   "outputs": [
    {
     "data": {
      "text/plain": [
       "False"
      ]
     },
     "execution_count": 152,
     "metadata": {},
     "output_type": "execute_result"
    }
   ],
   "source": [
    "# F o F -> F\n",
    "1 != 1 or 2 != 2"
   ]
  },
  {
   "cell_type": "code",
   "execution_count": 153,
   "metadata": {},
   "outputs": [
    {
     "data": {
      "text/plain": [
       "True"
      ]
     },
     "execution_count": 153,
     "metadata": {},
     "output_type": "execute_result"
    }
   ],
   "source": [
    "# V y V -> V\n",
    "1 == 1 and 2 == 2"
   ]
  },
  {
   "cell_type": "code",
   "execution_count": 154,
   "metadata": {},
   "outputs": [
    {
     "data": {
      "text/plain": [
       "False"
      ]
     },
     "execution_count": 154,
     "metadata": {},
     "output_type": "execute_result"
    }
   ],
   "source": [
    "# V y F -> F\n",
    "1 == 1 and 2 != 2"
   ]
  },
  {
   "cell_type": "code",
   "execution_count": 155,
   "metadata": {},
   "outputs": [
    {
     "data": {
      "text/plain": [
       "False"
      ]
     },
     "execution_count": 155,
     "metadata": {},
     "output_type": "execute_result"
    }
   ],
   "source": [
    "# F y F -> F\n",
    "1 != 1 and 2 != 2"
   ]
  }
 ],
 "metadata": {
  "kernelspec": {
   "display_name": "Python 3",
   "language": "python",
   "name": "python3"
  },
  "language_info": {
   "codemirror_mode": {
    "name": "ipython",
    "version": 3
   },
   "file_extension": ".py",
   "mimetype": "text/x-python",
   "name": "python",
   "nbconvert_exporter": "python",
   "pygments_lexer": "ipython3",
   "version": "3.7.6"
  }
 },
 "nbformat": 4,
 "nbformat_minor": 4
}
