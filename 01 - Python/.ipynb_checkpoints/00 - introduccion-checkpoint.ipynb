{
 "cells": [
  {
   "cell_type": "markdown",
   "metadata": {},
   "source": [
    "# Título 1 - PYTHON\n",
    "![alt text](https://upload.wikimedia.org/wikipedia/commons/0/0a/Python.svg)\n",
    "## Título 2\n",
    "![alt text](https://github.com/adam-p/markdown-here/raw/master/src/common/images/icon48.png \"Logo Title Text 1\")\n",
    "### Título 3\n",
    "![alt text](https://upload.wikimedia.org/wikipedia/commons/3/38/Jupyter_logo.svg)\n",
    "#### Título 4\n",
    "![alt text](https://encrypted-tbn0.gstatic.com/images?q=tbn%3AANd9GcTLw4qWr-NokZ9ORlV_wjWzLb6EVUYuHD_8yw&usqp=CAU)\n",
    "#### Título 4\n",
    "##### Título 5\n",
    "###### Título 6 \n",
    "\n",
    "```javascript\n",
    "var s = \"JavaScript syntax highlighting\";\n",
    "alert(s);\n",
    "```\n",
    " \n",
    "```python\n",
    "s = \"Python syntax highlighting\"\n",
    "print s\n",
    "```\n",
    " \n",
    "```\n",
    "No language indicated, so no syntax highlighting. \n",
    "But let's throw in a <b>tag</b>.\n",
    "```\n",
    "\n"
   ]
  },
  {
   "cell_type": "code",
   "execution_count": 6,
   "metadata": {},
   "outputs": [
    {
     "name": "stdout",
     "output_type": "stream",
     "text": [
      "Hola Mundo\n"
     ]
    }
   ],
   "source": [
    "print (\"Hola Mundo\")"
   ]
  },
  {
   "cell_type": "code",
   "execution_count": 7,
   "metadata": {},
   "outputs": [
    {
     "name": "stdout",
     "output_type": "stream",
     "text": [
      "Hola Mundo\n"
     ]
    }
   ],
   "source": [
    "print (\"Hola Mundo\")"
   ]
  },
  {
   "cell_type": "code",
   "execution_count": 11,
   "metadata": {},
   "outputs": [
    {
     "name": "stdout",
     "output_type": "stream",
     "text": [
      "<class 'int'>\n",
      "<class 'float'>\n",
      "<class 'str'>\n",
      "<class 'str'>\n",
      "<class 'str'>\n",
      "<class 'bool'>\n",
      "<class 'bool'>\n",
      "<class 'NoneType'>\n",
      "<class 'float'>\n"
     ]
    }
   ],
   "source": [
    "# No tipado = No declaras Nunca el tipo de variable\n",
    "# Variable Primitivas\n",
    "entero = 4\n",
    "decimal = 1.1\n",
    "nombre = \"Jose\"\n",
    "segundo_nombre = \"David\" # segundoNombre X -> MAL\n",
    "apelllido = 'Arcinega'\n",
    "estado_civil = False\n",
    "estudia = True\n",
    "hijos = None # vacio/nada/nulo\n",
    "print(type(entero)) # int\n",
    "print(type(decimal)) #float\n",
    "print(type(nombre)) # str\n",
    "print(type(segundo_nombre)) # str\n",
    "print(type(apelllido)) # str\n",
    "print(type(estado_civil)) # bool\n",
    "print(type(estudia)) # bool\n",
    "print(type(hijos)) # NoneType\n",
    "print(type(float('nan'))) # float Not A Number nan"
   ]
  },
  {
   "cell_type": "code",
   "execution_count": 1,
   "metadata": {},
   "outputs": [
    {
     "name": "stdout",
     "output_type": "stream",
     "text": [
      "\n",
      "Las ventajas del lenguaje Python son las siguientes:\n",
      "\n",
      "Simplificado y rápido\n",
      "Este lenguaje simplifica mucho la programación \n",
      "“hace que te adaptes a un modo de lenguaje de programación,\n",
      "Python te propone un patrón”. Es un gran lenguaje para scripting,\n",
      "si usted requiere algo rápido\n",
      "(en el sentido de la ejecución del lenguaje),\n",
      "con unas cuantas líneas ya está resuelto.\n",
      "\n",
      "<class 'str'>\n"
     ]
    }
   ],
   "source": [
    "cadena_de_texto = \"\"\"\n",
    "Las ventajas del lenguaje Python son las siguientes:\n",
    "\n",
    "Simplificado y rápido\n",
    "Este lenguaje simplifica mucho la programación \n",
    "“hace que te adaptes a un modo de lenguaje de programación,\n",
    "Python te propone un patrón”. Es un gran lenguaje para scripting,\n",
    "si usted requiere algo rápido\n",
    "(en el sentido de la ejecución del lenguaje),\n",
    "con unas cuantas líneas ya está resuelto.\n",
    "\"\"\"\n",
    "print(cadena_de_texto)\n",
    "print(type(cadena_de_texto))"
   ]
  },
  {
   "cell_type": "code",
   "execution_count": 12,
   "metadata": {},
   "outputs": [
    {
     "name": "stdout",
     "output_type": "stream",
     "text": [
      "4\n",
      "David\n"
     ]
    }
   ],
   "source": [
    "print(entero)\n",
    "entero = decimal\n",
    "entero = estado_civil\n",
    "entero = nombre\n",
    "entero = segundo_nombre\n",
    "print (entero)"
   ]
  },
  {
   "cell_type": "code",
   "execution_count": 13,
   "metadata": {},
   "outputs": [
    {
     "name": "stdout",
     "output_type": "stream",
     "text": [
      "dicdionario_completo =  {'nombre': 'Jose', 'edad': 22, 'cursos': ['Python', 'Django', 'JavaScript']}\n",
      "valor_nombre =  Jose\n",
      "valor_edad = 22\n",
      "valor_cursos =  ['Python', 'Django', 'JavaScript']\n",
      "Truty\n",
      "Falsy\n",
      "Falsy\n",
      "Truty\n",
      "Falsy\n",
      "Truty\n",
      "Truty\n",
      "Truty\n",
      "Falsy\n",
      "Falsy\n",
      "Truty\n",
      "Falsy\n",
      "Truty\n",
      "Falsy\n",
      "Truty\n"
     ]
    }
   ],
   "source": [
    "# Condicionales\n",
    "# Truty - Falsy\n",
    "tuplas = (1,2,3) # Arreglos que NO se pueden modificar\n",
    "listas = [4,5,6] # Arreglos que SI se pueden modificar\n",
    "diccionario = {\n",
    "    'nombre' : 'Jose',\n",
    "    'edad' : 22,\n",
    "    'cursos': ['Python','Django','JavaScript']\n",
    "}\n",
    "\n",
    "print (\"dicdionario_completo = \",diccionario)\n",
    "print (\"valor_nombre = \",diccionario['nombre'])\n",
    "print (\"valor_edad =\",diccionario['edad'])\n",
    "print (\"valor_cursos = \",diccionario['cursos'])\n",
    "\n",
    "if('Jose'): # Truty\n",
    "    #...\n",
    "    #...\n",
    "    print ('Truty')\n",
    "else:\n",
    "    #...\n",
    "    #...\n",
    "    print ('Falsy')\n",
    "    \n",
    "    \n",
    "if(''): # Falsy\n",
    "    print ('Truty')\n",
    "else:\n",
    "    print ('Falsy')\n",
    "    \n",
    "nulo = None \n",
    "if(nulo): # Falsy\n",
    "    print ('Truty')\n",
    "else:\n",
    "    print ('Falsy')\n",
    "\n",
    "# NUMEROS\n",
    "if(-1): # Truty\n",
    "    print ('Truty')\n",
    "else:\n",
    "    print ('Falsy')\n",
    "    \n",
    "if(0): # Falsy\n",
    "    print ('Truty')\n",
    "else:\n",
    "    print ('Falsy')\n",
    "    \n",
    "if(1): # Truty\n",
    "    print ('Truty')\n",
    "else:\n",
    "    print ('Falsy')\n",
    "\n",
    "# DECIMALES\n",
    "if(-1.1): # Truty\n",
    "    print('Truty')\n",
    "else:\n",
    "    print('Falsy')\n",
    "\n",
    "if(1.2): # Truty\n",
    "    print('Truty')\n",
    "else:\n",
    "    print('Falsy')\n",
    "    \n",
    "if(0.0): # Falsy\n",
    "    print('Truty')\n",
    "else:\n",
    "    print('Falsy')\n",
    "\n",
    "\n",
    "# Tuplas vacias    \n",
    "if(()): # Falsy\n",
    "    print('Truty')\n",
    "else:\n",
    "    print('Falsy')\n",
    "\n",
    "# Tuplas llenas\n",
    "if((1,2,3)): # Truty\n",
    "    print('Truty')\n",
    "else:\n",
    "    print('Falsy')\n",
    "    \n",
    "# listas vacias\n",
    "if([]): # Falsy\n",
    "    print('Truty')\n",
    "else:\n",
    "    print('Falsy')\n",
    "    \n",
    "# Listas llenas\n",
    "if([1,2,3]): # Truty\n",
    "    print('Truty')\n",
    "else:\n",
    "    print('Falsy')\n",
    "    \n",
    "# Diccionarios vacios\n",
    "if({}): # Falsy\n",
    "    print('Truty')\n",
    "else:\n",
    "    print('Falsy')\n",
    "    \n",
    "# Diccionarios llenos\n",
    "if({nombre: \"Jose\"}): # Truty\n",
    "    print('Truty')\n",
    "else:\n",
    "    print('Falsy')"
   ]
  },
  {
   "cell_type": "code",
   "execution_count": 14,
   "metadata": {},
   "outputs": [],
   "source": [
    "arreglo = [1, 2, 3, 4, 5, 6, 7, 8, 9, 10] # indices: 0 - 9"
   ]
  },
  {
   "cell_type": "code",
   "execution_count": 35,
   "metadata": {},
   "outputs": [
    {
     "data": {
      "text/plain": [
       "(6, 7, 8, 9)"
      ]
     },
     "execution_count": 35,
     "metadata": {},
     "output_type": "execute_result"
    }
   ],
   "source": [
    "arreglo[0:3] # [0,3[ -> excluimos al indice 3  -> indice 3 = 4 \n",
    "arreglo[5:]  # Hasta el Final\n",
    "arreglo[:7]  # Desde el inicio\n",
    "arreglo[-10] # Indice negativo empieza desde el final\n",
    "arreglo[3:-2] \n",
    "arreglo[-8:8]\n",
    "arreglo[-4:-1]\n",
    "arreglo[-7:] # Hasta el Final\n",
    "arreglo[:-3] # Desde el inicio\n",
    "arreglo[:]\n",
    "\n",
    "arreglo_tupla = (1, 2, 3, 4, 5, 6, 7, 8, 9, 10)\n",
    "arreglo_tupla[5:9]"
   ]
  },
  {
   "cell_type": "code",
   "execution_count": 36,
   "metadata": {},
   "outputs": [
    {
     "data": {
      "text/plain": [
       "['Python', 'Django', 'JavaScript']"
      ]
     },
     "execution_count": 36,
     "metadata": {},
     "output_type": "execute_result"
    }
   ],
   "source": [
    "diccionario = {\n",
    "    'nombre' : 'Jose',\n",
    "    'edad' : 25,\n",
    "    'sueldo' : 1.2,\n",
    "    'cursos': ['Python','Django','JavaScript']\n",
    "}\n",
    "# diccionario[\"nombre\"]\n",
    "# diccionario[\"sueldo\"]\n",
    "diccionario[\"cursos\"]"
   ]
  },
  {
   "cell_type": "code",
   "execution_count": 45,
   "metadata": {},
   "outputs": [
    {
     "name": "stdout",
     "output_type": "stream",
     "text": [
      "True\n",
      "<class 'bool'>\n"
     ]
    }
   ],
   "source": [
    "10 in arreglo_tupla # in -> averiguo si está dentro de un arreglo\n",
    "print(10 in arreglo_tupla) \n",
    "print(type(10 in arreglo_tupla))\n",
    "# in me devuelve un bool"
   ]
  },
  {
   "cell_type": "code",
   "execution_count": 42,
   "metadata": {},
   "outputs": [
    {
     "name": "stdout",
     "output_type": "stream",
     "text": [
      "False\n",
      "<class 'bool'>\n"
     ]
    }
   ],
   "source": [
    "print(12 in arreglo) # in -> averiguo si está dentro de un arreglo\n",
    "print(type(12 in arreglo))\n",
    "# in me devuelve un bool"
   ]
  },
  {
   "cell_type": "code",
   "execution_count": 49,
   "metadata": {},
   "outputs": [
    {
     "data": {
      "text/plain": [
       "4"
      ]
     },
     "execution_count": 49,
     "metadata": {},
     "output_type": "execute_result"
    }
   ],
   "source": [
    "len(arreglo) # len me devuelve la longitud\n",
    "len(arreglo_tupla)\n",
    "len(diccionario)"
   ]
  },
  {
   "cell_type": "code",
   "execution_count": 56,
   "metadata": {},
   "outputs": [
    {
     "data": {
      "text/plain": [
       "True"
      ]
     },
     "execution_count": 56,
     "metadata": {},
     "output_type": "execute_result"
    }
   ],
   "source": [
    "\"nombre\" in diccionario # En Diccionario llave -> True /  Valor -> False "
   ]
  },
  {
   "cell_type": "code",
   "execution_count": 59,
   "metadata": {},
   "outputs": [],
   "source": [
    "# arreglo_tupla[0] = 2 # NO puedo cambiar los elementos de las tuplas\n",
    "arreglo [0] = 2 # SI puedo cambiar los elementos de las listas"
   ]
  },
  {
   "cell_type": "code",
   "execution_count": 60,
   "metadata": {},
   "outputs": [
    {
     "data": {
      "text/plain": [
       "[2, 2, 3, 4, 5, 6, 7, 8, 9, 10]"
      ]
     },
     "execution_count": 60,
     "metadata": {},
     "output_type": "execute_result"
    }
   ],
   "source": [
    "arreglo"
   ]
  },
  {
   "cell_type": "code",
   "execution_count": 61,
   "metadata": {},
   "outputs": [],
   "source": [
    "# arreglo.pop\n",
    "# arreglo.append\n",
    "# arreglo.insert"
   ]
  },
  {
   "cell_type": "code",
   "execution_count": 62,
   "metadata": {},
   "outputs": [
    {
     "name": "stdout",
     "output_type": "stream",
     "text": [
      "2\n",
      "2\n",
      "3\n",
      "4\n",
      "5\n",
      "6\n",
      "7\n",
      "8\n",
      "9\n",
      "10\n"
     ]
    }
   ],
   "source": [
    "for numero_lista in arreglo:\n",
    "    print(numero_lista)"
   ]
  },
  {
   "cell_type": "code",
   "execution_count": 64,
   "metadata": {},
   "outputs": [
    {
     "name": "stdout",
     "output_type": "stream",
     "text": [
      "1\n",
      "2\n",
      "3\n",
      "4\n",
      "5\n",
      "6\n",
      "7\n",
      "8\n",
      "9\n",
      "10\n"
     ]
    }
   ],
   "source": [
    "for numeno_tupla in arreglo_tupla:\n",
    "    print(numeno_tupla)"
   ]
  },
  {
   "cell_type": "code",
   "execution_count": 66,
   "metadata": {},
   "outputs": [
    {
     "name": "stdout",
     "output_type": "stream",
     "text": [
      "nombre\n",
      "edad\n",
      "sueldo\n",
      "cursos\n"
     ]
    }
   ],
   "source": [
    "for key in diccionario:\n",
    "    print(key)"
   ]
  },
  {
   "cell_type": "code",
   "execution_count": 68,
   "metadata": {},
   "outputs": [
    {
     "name": "stdout",
     "output_type": "stream",
     "text": [
      "0\n",
      "1\n",
      "2\n",
      "3\n",
      "4\n",
      "5\n",
      "6\n",
      "7\n",
      "8\n",
      "9\n"
     ]
    }
   ],
   "source": [
    "contador = 0\n",
    "while contador < 10:\n",
    "    print(contador)\n",
    "    contador += 1"
   ]
  },
  {
   "cell_type": "code",
   "execution_count": 117,
   "metadata": {},
   "outputs": [
    {
     "data": {
      "text/plain": [
       "{True: 12.2,\n",
       " False: 'Arciniega',\n",
       " 1.1: 89,\n",
       " 'edad': 32,\n",
       " 'mascotas': [{'nombre_mascota': 'Rafaelo'}],\n",
       " None: None}"
      ]
     },
     "execution_count": 117,
     "metadata": {},
     "output_type": "execute_result"
    }
   ],
   "source": [
    "# MAL ejemplo de DICCIONARIO\n",
    "jose = {\n",
    "    True : \"Jose\",\n",
    "    False : \"Arciniega\",\n",
    "    1 : 12.2,\n",
    "    1.1 : 89,\n",
    "    'edad' : 32,\n",
    "    'mascotas' : [{\"nombre_mascota\":\"Rafaelo\"}], # lista de diccionario\n",
    "    None: None\n",
    "}\n",
    "jose\n",
    "# DICCIONARIO CORRECTO -> llaves = string : valores = cualquier valos"
   ]
  },
  {
   "cell_type": "code",
   "execution_count": 108,
   "metadata": {},
   "outputs": [
    {
     "data": {
      "text/plain": [
       "{'nombre-_mascota': 'Rafaelo'}"
      ]
     },
     "execution_count": 108,
     "metadata": {},
     "output_type": "execute_result"
    }
   ],
   "source": [
    "jose['mascotas'][0]"
   ]
  },
  {
   "cell_type": "code",
   "execution_count": 118,
   "metadata": {},
   "outputs": [],
   "source": [
    "# DICCIONARIOS: llaves = Valores \n",
    "jose['edad'] = 26 # cambiar valor de una llave\n",
    "jose['apellido'] = 'Arciniega' # agregar un llave con su respectivo valor\n",
    "jose['mascotas'][0][\"nombre_mascota\"] = 'Panda'# añadir un valor a una llave tipo diccionario"
   ]
  },
  {
   "cell_type": "code",
   "execution_count": 119,
   "metadata": {},
   "outputs": [
    {
     "data": {
      "text/plain": [
       "{True: 12.2,\n",
       " False: 'Arciniega',\n",
       " 1.1: 89,\n",
       " 'edad': 26,\n",
       " 'mascotas': [{'nombre_mascota': 'Panda'}],\n",
       " None: None,\n",
       " 'apellido': 'Arciniega'}"
      ]
     },
     "execution_count": 119,
     "metadata": {},
     "output_type": "execute_result"
    }
   ],
   "source": [
    "jose"
   ]
  },
  {
   "cell_type": "code",
   "execution_count": 122,
   "metadata": {},
   "outputs": [
    {
     "name": "stdout",
     "output_type": "stream",
     "text": [
      "<class 'dict_keys'>\n"
     ]
    }
   ],
   "source": [
    "print(type(jose.keys()))"
   ]
  },
  {
   "cell_type": "code",
   "execution_count": 124,
   "metadata": {},
   "outputs": [
    {
     "name": "stdout",
     "output_type": "stream",
     "text": [
      "<class 'dict_values'>\n"
     ]
    }
   ],
   "source": [
    "print(type(jose.values()))"
   ]
  },
  {
   "cell_type": "code",
   "execution_count": 126,
   "metadata": {},
   "outputs": [
    {
     "name": "stdout",
     "output_type": "stream",
     "text": [
      "True\n",
      "False\n",
      "1.1\n",
      "edad\n",
      "mascotas\n",
      "None\n",
      "apellido\n"
     ]
    }
   ],
   "source": [
    "for llave in jose.keys():\n",
    "    print (llave)"
   ]
  },
  {
   "cell_type": "code",
   "execution_count": 127,
   "metadata": {},
   "outputs": [
    {
     "name": "stdout",
     "output_type": "stream",
     "text": [
      "12.2\n",
      "Arciniega\n",
      "89\n",
      "26\n",
      "[{'nombre_mascota': 'Panda'}]\n",
      "None\n",
      "Arciniega\n"
     ]
    }
   ],
   "source": [
    "for valor in jose.values():\n",
    "    print (valor)"
   ]
  },
  {
   "cell_type": "code",
   "execution_count": 131,
   "metadata": {},
   "outputs": [
    {
     "data": {
      "text/plain": [
       "True"
      ]
     },
     "execution_count": 131,
     "metadata": {},
     "output_type": "execute_result"
    }
   ],
   "source": [
    "1 == 1 or 2 == 2"
   ]
  },
  {
   "cell_type": "code",
   "execution_count": 130,
   "metadata": {},
   "outputs": [
    {
     "data": {
      "text/plain": [
       "False"
      ]
     },
     "execution_count": 130,
     "metadata": {},
     "output_type": "execute_result"
    }
   ],
   "source": [
    "1 != 1 and 2 != 2"
   ]
  },
  {
   "cell_type": "code",
   "execution_count": 132,
   "metadata": {},
   "outputs": [
    {
     "data": {
      "text/plain": [
       "True"
      ]
     },
     "execution_count": 132,
     "metadata": {},
     "output_type": "execute_result"
    }
   ],
   "source": [
    "1 == 1 or 2 != 2"
   ]
  },
  {
   "cell_type": "code",
   "execution_count": 135,
   "metadata": {},
   "outputs": [
    {
     "data": {
      "text/plain": [
       "False"
      ]
     },
     "execution_count": 135,
     "metadata": {},
     "output_type": "execute_result"
    }
   ],
   "source": [
    "1 == 1 and 2 != 2"
   ]
  }
 ],
 "metadata": {
  "kernelspec": {
   "display_name": "Python 3",
   "language": "python",
   "name": "python3"
  },
  "language_info": {
   "codemirror_mode": {
    "name": "ipython",
    "version": 3
   },
   "file_extension": ".py",
   "mimetype": "text/x-python",
   "name": "python",
   "nbconvert_exporter": "python",
   "pygments_lexer": "ipython3",
   "version": "3.7.6"
  }
 },
 "nbformat": 4,
 "nbformat_minor": 4
}
