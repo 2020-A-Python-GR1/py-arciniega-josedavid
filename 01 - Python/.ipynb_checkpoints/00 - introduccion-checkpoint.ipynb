{
 "cells": [
  {
   "cell_type": "markdown",
   "metadata": {},
   "source": [
    "# Título 1 - PYTHON\n",
    "![alt text](https://upload.wikimedia.org/wikipedia/commons/0/0a/Python.svg)\n",
    "## Título 2\n",
    "![alt text](https://github.com/adam-p/markdown-here/raw/master/src/common/images/icon48.png \"Logo Title Text 1\")\n",
    "### Título 3\n",
    "![alt text](https://upload.wikimedia.org/wikipedia/commons/3/38/Jupyter_logo.svg)\n",
    "#### Título 4\n",
    "![alt text](https://encrypted-tbn0.gstatic.com/images?q=tbn%3AANd9GcTLw4qWr-NokZ9ORlV_wjWzLb6EVUYuHD_8yw&usqp=CAU)\n",
    "#### Título 4\n",
    "##### Título 5\n",
    "###### Título 6 \n",
    "\n",
    "```javascript\n",
    "var s = \"JavaScript syntax highlighting\";\n",
    "alert(s);\n",
    "```\n",
    " \n",
    "```python\n",
    "s = \"Python syntax highlighting\"\n",
    "print s\n",
    "```\n",
    " \n",
    "```\n",
    "No language indicated, so no syntax highlighting. \n",
    "But let's throw in a <b>tag</b>.\n",
    "```\n",
    "\n"
   ]
  },
  {
   "cell_type": "code",
   "execution_count": 6,
   "metadata": {},
   "outputs": [
    {
     "name": "stdout",
     "output_type": "stream",
     "text": [
      "Hola Mundo\n"
     ]
    }
   ],
   "source": [
    "print (\"Hola Mundo\")"
   ]
  },
  {
   "cell_type": "code",
   "execution_count": 8,
   "metadata": {},
   "outputs": [
    {
     "name": "stdout",
     "output_type": "stream",
     "text": [
      "Hola Mundo\n"
     ]
    }
   ],
   "source": [
    "print (\"Hola Mundo\")"
   ]
  },
  {
   "cell_type": "code",
   "execution_count": 7,
   "metadata": {},
   "outputs": [
    {
     "name": "stdout",
     "output_type": "stream",
     "text": [
      "Hola Mundo\n"
     ]
    }
   ],
   "source": [
    "print (\"Hola Mundo\")"
   ]
  },
  {
   "cell_type": "code",
   "execution_count": 10,
   "metadata": {},
   "outputs": [
    {
     "name": "stdout",
     "output_type": "stream",
     "text": [
      "<class 'int'>\n",
      "<class 'float'>\n",
      "<class 'str'>\n",
      "<class 'str'>\n",
      "<class 'str'>\n",
      "<class 'bool'>\n",
      "<class 'bool'>\n",
      "<class 'NoneType'>\n"
     ]
    }
   ],
   "source": [
    "# No tipado = No declaras Nunca el tipo de variable\n",
    "# Variable Primitivas\n",
    "entero = 4\n",
    "decimales = 1.1\n",
    "nombre = \"Jose\"\n",
    "segundo_nombre = \"David\" # segundoNombre X -> MAL\n",
    "apelllido = 'Arcinega'\n",
    "estado_civil = False\n",
    "estudia = True\n",
    "hijos = None # vacio/nada/nulo\n",
    "print(type(entero)) # int\n",
    "print(type(decimales)) #float\n",
    "print(type(nombre)) # str\n",
    "print(type(segundo_nombre)) # str\n",
    "print(type(apelllido)) # str\n",
    "print(type(estado_civil)) # bool\n",
    "print(type(estudia)) # bool\n",
    "print(type(hijos)) # NoneType"
   ]
  },
  {
   "cell_type": "code",
   "execution_count": null,
   "metadata": {},
   "outputs": [],
   "source": []
  }
 ],
 "metadata": {
  "kernelspec": {
   "display_name": "Python 3",
   "language": "python",
   "name": "python3"
  },
  "language_info": {
   "codemirror_mode": {
    "name": "ipython",
    "version": 3
   },
   "file_extension": ".py",
   "mimetype": "text/x-python",
   "name": "python",
   "nbconvert_exporter": "python",
   "pygments_lexer": "ipython3",
   "version": "3.7.6"
  }
 },
 "nbformat": 4,
 "nbformat_minor": 4
}
