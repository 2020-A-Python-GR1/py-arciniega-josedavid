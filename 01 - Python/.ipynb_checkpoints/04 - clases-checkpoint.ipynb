{
 "cells": [
  {
   "cell_type": "code",
   "execution_count": 15,
   "metadata": {},
   "outputs": [],
   "source": [
    "# Clases  -> \n",
    "class Nada:\n",
    "    #...\n",
    "    pass"
   ]
  },
  {
   "cell_type": "code",
   "execution_count": 13,
   "metadata": {},
   "outputs": [],
   "source": [
    "una_nada = Nada # Instanciar la clase Nada"
   ]
  },
  {
   "cell_type": "code",
   "execution_count": 14,
   "metadata": {},
   "outputs": [
    {
     "name": "stdout",
     "output_type": "stream",
     "text": [
      "<class '__main__.Nada'>\n",
      "<class 'type'>\n"
     ]
    }
   ],
   "source": [
    "print(una_nada)\n",
    "print(type(una_nada))"
   ]
  },
  {
   "cell_type": "code",
   "execution_count": 24,
   "metadata": {},
   "outputs": [
    {
     "name": "stdout",
     "output_type": "stream",
     "text": [
      "Empezo el constructor\n",
      "Rosado\n",
      "140.39999999999998\n",
      "Color: Rosado \n",
      "Numero Chasios: 120\n",
      "\n",
      "<class '__main__.Auto'>\n",
      "<class 'type'>\n"
     ]
    }
   ],
   "source": [
    "class Auto:\n",
    "    \n",
    "    color = None  # Publico\n",
    "    __numero_chasis = 1  # Privado\n",
    "    \n",
    "    def __init__(self, color): # Constructor self = this\n",
    "        print(\"Empezo el constructor\")\n",
    "        self.color = color\n",
    "    \n",
    "    def setear_chasis(self, numero_chasis): # Metodos Publicos\n",
    "        self.__numero_chasis = numero_chasis\n",
    "        return self.__calculo_chasis()\n",
    "    \n",
    "    def __calculo_chasis(self): # Metodos Privados\n",
    "        return self.__numero_chasis * 1.17\n",
    "    \n",
    "    def __str__(self):\n",
    "        parte_uno = f\"Color: {self.color} \\n\"\n",
    "        parte_dos = f\"Numero Chasios: {self.__numero_chasis}\"\n",
    "        return parte_uno + parte_dos\n",
    "    \n",
    "nuevo_auto = Auto(\"Rosado\")\n",
    "print(nuevo_auto.color)\n",
    "print(nuevo_auto.setear_chasis(120))\n",
    "print(nuevo_auto)\n",
    "\n",
    "print(f\"\\n{Auto}\")\n",
    "print(type(Auto))"
   ]
  },
  {
   "cell_type": "code",
   "execution_count": 14,
   "metadata": {},
   "outputs": [],
   "source": [
    "class BMW(Auto):\n",
    "    def __init__(self, color, chasis):\n",
    "        print(\"Iniciar constructor Hijo\")\n",
    "        super().__init__(color)\n",
    "        super().setear_chasis(chasis)"
   ]
  },
  {
   "cell_type": "code",
   "execution_count": 15,
   "metadata": {},
   "outputs": [
    {
     "name": "stdout",
     "output_type": "stream",
     "text": [
      "Iniciar constructor Hijo\n",
      "Empezo el constructor\n",
      "Color: Blanco \n",
      "Numero Chasios: 150\n"
     ]
    }
   ],
   "source": [
    "nuevo_bmw = BMW(\"Blanco\", 150)\n",
    "print(nuevo_bmw)"
   ]
  }
 ],
 "metadata": {
  "kernelspec": {
   "display_name": "Python 3",
   "language": "python",
   "name": "python3"
  },
  "language_info": {
   "codemirror_mode": {
    "name": "ipython",
    "version": 3
   },
   "file_extension": ".py",
   "mimetype": "text/x-python",
   "name": "python",
   "nbconvert_exporter": "python",
   "pygments_lexer": "ipython3",
   "version": "3.7.6"
  }
 },
 "nbformat": 4,
 "nbformat_minor": 4
}
