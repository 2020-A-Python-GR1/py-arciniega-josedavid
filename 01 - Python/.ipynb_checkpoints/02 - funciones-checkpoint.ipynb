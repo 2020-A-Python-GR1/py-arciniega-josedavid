{
 "cells": [
  {
   "cell_type": "code",
   "execution_count": 3,
   "metadata": {},
   "outputs": [
    {
     "name": "stdout",
     "output_type": "stream",
     "text": [
      "Hola Mundo\n",
      "<class 'NoneType'>\n"
     ]
    }
   ],
   "source": [
    "#FUNCIONES\n",
    "def hola_mundo(): # Devuelve None / Void \n",
    "    print('Hola Mundo')\n",
    "print(type(hola_mundo()))"
   ]
  },
  {
   "cell_type": "code",
   "execution_count": 13,
   "metadata": {},
   "outputs": [
    {
     "name": "stdout",
     "output_type": "stream",
     "text": [
      "7.5\n",
      "La suma de 4 y 3.5 es igual a 7.5\n"
     ]
    }
   ],
   "source": [
    "# FUNCIONES CON PARAMETROS REQUERIDOS\n",
    "def sumar_dos_numeros(num_uno, num_dos):\n",
    "    return num_uno + num_dos\n",
    "print(sumar_dos_numeros(4,3.5))\n",
    "resultado = sumar_dos_numeros(4,3.5)\n",
    "print(f\"La suma de 4 y 3.5 es igual a {resultado}\")"
   ]
  },
  {
   "cell_type": "code",
   "execution_count": 11,
   "metadata": {},
   "outputs": [
    {
     "name": "stdout",
     "output_type": "stream",
     "text": [
      "\n",
      "Universidad: EPN\n",
      "\n",
      "Universidad: ESPE\n"
     ]
    }
   ],
   "source": [
    "# FUNCIONES CON PARAMETROS OPCIONALES\n",
    "def imprimir_universidad(nombre_universidad = \"EPN\"): # EPN será el parametro por DEFECTO\n",
    "    print(f\"\\nUniversidad: {nombre_universidad}\")\n",
    "imprimir_universidad()\n",
    "imprimir_universidad(\"ESPE\")   "
   ]
  },
  {
   "cell_type": "code",
   "execution_count": 15,
   "metadata": {},
   "outputs": [
    {
     "name": "stdout",
     "output_type": "stream",
     "text": [
      "\n",
      "Color: Blanco\n",
      "Placa: ABC-1234\n",
      "Horse Power: 3000\n",
      "Año: 1989\n",
      "\n",
      "Color: Negro\n",
      "Placa: XYZ-9876\n",
      "Horse Power: 2500\n",
      "Año: 2020\n"
     ]
    }
   ],
   "source": [
    "# FUNCIONES CON PARAMETROS REQUERIDOS Y OPCIONALES\n",
    "# REGLA: Primero Parametros Requeridos. Luego los Parametros Opcionales\n",
    "def imprimir_carro(color, placa, hp, anio = 1989): # anio es parametro opcional/por defecto\n",
    "    print(f\"\\nColor: {color}\")\n",
    "    print(f\"Placa: {placa}\")\n",
    "    print(f\"Horse Power: {hp}\")\n",
    "    print(f\"Año: {anio}\")\n",
    "    \n",
    "imprimir_carro(\"Blanco\", \"ABC-1234\", 3000)\n",
    "\n",
    "imprimir_carro(\"Negro\", \"XYZ-9876\", 2500, 2020)"
   ]
  },
  {
   "cell_type": "code",
   "execution_count": 16,
   "metadata": {},
   "outputs": [
    {
     "name": "stdout",
     "output_type": "stream",
     "text": [
      "\n",
      "Color: Purpura\n",
      "Placa: DEF-456\n",
      "Horse Power: 6500\n",
      "Año: 2012\n"
     ]
    }
   ],
   "source": [
    "# Named Parameters (Parametros Nombrados)\n",
    "# SI NOMBRO los PARAMETROS, los puedo mardar en DIFERENTE orden\n",
    "imprimir_carro(anio = 2012, \n",
    "               placa = \"DEF-456\", \n",
    "               hp = 6500, \n",
    "               color = \"Purpura\")"
   ]
  },
  {
   "cell_type": "code",
   "execution_count": 18,
   "metadata": {},
   "outputs": [
    {
     "name": "stdout",
     "output_type": "stream",
     "text": [
      "\n",
      "Color: Turquesa\n",
      "Placa: PBB-9525\n",
      "Horse Power: 6677\n",
      "Año: 2015\n"
     ]
    }
   ],
   "source": [
    "# REGLA: Primero parametros por POSICION -> LUEGO los demas parametros NOMBRADOS\n",
    "imprimir_carro(\"Turquesa\",  \"PBB-9525\", anio =2015, hp = 6677)\n",
    "# RECOMENDACION: usar solo parametros por posicion o solo parametros nombrados"
   ]
  },
  {
   "cell_type": "code",
   "execution_count": 21,
   "metadata": {},
   "outputs": [
    {
     "name": "stdout",
     "output_type": "stream",
     "text": [
      "<class 'tuple'>\n",
      "(2, 3, 4, 5, 6, 2, 3, 4, 5, 6)\n"
     ]
    },
    {
     "data": {
      "text/plain": [
       "41"
      ]
     },
     "execution_count": 21,
     "metadata": {},
     "output_type": "execute_result"
    }
   ],
   "source": [
    "# FUNCIONES CON PARAMETROS INFINITOS\n",
    "# REGLA: Primero parametros normales, DESPUES del parametro INFINITO, no pueno agregar más parámetros\n",
    "def sumar_numeros (primer_numero, \n",
    "                   *numeros): # * -> Parametros INFINITOS\n",
    "    suma = primer_numero\n",
    "    for numero in numeros:\n",
    "        suma = suma + numero\n",
    "    print(type(numeros)) # numeros -> TUPLA\n",
    "    print(numeros)\n",
    "    return suma\n",
    "\n",
    "\n",
    "sumar_numeros(1, 2, 3, 4, 5, 6, 2, 3, 4, 5, 6)"
   ]
  },
  {
   "cell_type": "code",
   "execution_count": 2,
   "metadata": {},
   "outputs": [
    {
     "name": "stdout",
     "output_type": "stream",
     "text": [
      "<class 'tuple'>\n",
      "(1, 2, 3, 4, 5, 6, 2, 3, 4, 5)\n"
     ]
    },
    {
     "data": {
      "text/plain": [
       "35"
      ]
     },
     "execution_count": 2,
     "metadata": {},
     "output_type": "execute_result"
    }
   ],
   "source": [
    "# FUNCIONES CON PARAMETROS INFINITOS\n",
    "# REGLA: Primero parametros normales, DESPUES del parametro INFINITO, no pueno agregar más parámetros\n",
    "def sumar_numeros (*numeros): # * -> Parametros INFINITOS\n",
    "    suma = 0\n",
    "    for numero in numeros:\n",
    "        suma = suma + numero\n",
    "    print(type(numeros)) # numeros -> TUPLA\n",
    "    print(numeros)\n",
    "    return suma\n",
    "\n",
    "\n",
    "sumar_numeros(1, 2, 3, 4, 5, 6, 2, 3, 4, 5,)"
   ]
  },
  {
   "cell_type": "code",
   "execution_count": 32,
   "metadata": {},
   "outputs": [
    {
     "name": "stdout",
     "output_type": "stream",
     "text": [
      "{'saludo': 'hola', 'mensaje': 'mundo'}\n",
      "<class 'dict'>\n"
     ]
    }
   ],
   "source": [
    "# FUNCIONES Key Word ARGumentS (**kwargs) -> Devuelve un DICCIONARIO\n",
    "# REGLA: Solo mandar parametros Nombrados\n",
    "\n",
    "def establecer_configuracion(**kwargs): # Key Word Arguments -> Parametros Nombrados\n",
    "    print(kwargs)                   \n",
    "    print(type(kwargs))\n",
    "establecer_configuracion(saludo = \"hola\", mensaje = \"mundo\")"
   ]
  },
  {
   "cell_type": "code",
   "execution_count": 27,
   "metadata": {},
   "outputs": [],
   "source": [
    "# REGLAS\n",
    "# ORDEN DE PARAMETROS PARA CREAR UNA FUNCION\n",
    "def ejemplo(requerido_uno, \n",
    "           requerido_dos,\n",
    "           opcional_uno = 1,\n",
    "           opcional_dos = 2,\n",
    "           *infinitos,\n",
    "           **kwargs):\n",
    "    print(\":)\")"
   ]
  },
  {
   "cell_type": "code",
   "execution_count": 28,
   "metadata": {},
   "outputs": [
    {
     "data": {
      "text/plain": [
       "4"
      ]
     },
     "execution_count": 28,
     "metadata": {},
     "output_type": "execute_result"
    }
   ],
   "source": [
    "# FUNCIONES LAMBDA (x*x)\n",
    "def elevar_al_cuadrado(numero):\n",
    "    return numero * numero\n",
    "elevar_al_cuadrado(2)"
   ]
  },
  {
   "cell_type": "code",
   "execution_count": 29,
   "metadata": {},
   "outputs": [
    {
     "data": {
      "text/plain": [
       "4"
      ]
     },
     "execution_count": 29,
     "metadata": {},
     "output_type": "execute_result"
    }
   ],
   "source": [
    "# FUNCIONES LAMBDA (x*x)\n",
    "al_cuadrado = lambda x : x * x \n",
    "\n",
    "al_cuadrado(2)"
   ]
  },
  {
   "cell_type": "code",
   "execution_count": 30,
   "metadata": {},
   "outputs": [
    {
     "data": {
      "text/plain": [
       "27.7"
      ]
     },
     "execution_count": 30,
     "metadata": {},
     "output_type": "execute_result"
    }
   ],
   "source": [
    "# FUNCIONES LAMBDA (x+y)\n",
    "sumar_dos_numeros = lambda x,y:x+y\n",
    "sumar_dos_numeros(20,7.7)"
   ]
  },
  {
   "cell_type": "code",
   "execution_count": 31,
   "metadata": {},
   "outputs": [
    {
     "name": "stdout",
     "output_type": "stream",
     "text": [
      "22\n",
      "33\n"
     ]
    }
   ],
   "source": [
    "def myfunc(n):\n",
    "  return lambda a : a * n\n",
    "\n",
    "mydoubler = myfunc(2)\n",
    "mytripler = myfunc(3)\n",
    "\n",
    "print(mydoubler(11))\n",
    "print(mytripler(11))"
   ]
  }
 ],
 "metadata": {
  "kernelspec": {
   "display_name": "Python 3",
   "language": "python",
   "name": "python3"
  },
  "language_info": {
   "codemirror_mode": {
    "name": "ipython",
    "version": 3
   },
   "file_extension": ".py",
   "mimetype": "text/x-python",
   "name": "python",
   "nbconvert_exporter": "python",
   "pygments_lexer": "ipython3",
   "version": "3.7.6"
  }
 },
 "nbformat": 4,
 "nbformat_minor": 4
}
