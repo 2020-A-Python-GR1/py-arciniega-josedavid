{
 "cells": [
  {
   "cell_type": "code",
   "execution_count": 1,
   "metadata": {},
   "outputs": [
    {
     "name": "stdout",
     "output_type": "stream",
     "text": [
      "Hola Mundo\n"
     ]
    },
    {
     "data": {
      "text/plain": [
       "NoneType"
      ]
     },
     "execution_count": 1,
     "metadata": {},
     "output_type": "execute_result"
    }
   ],
   "source": [
    "#Funciones\n",
    "def hola_mundo(): # Devuelve None / Void \n",
    "    print('Hola Mundo')\n",
    "type(hola_mundo())"
   ]
  },
  {
   "cell_type": "code",
   "execution_count": 19,
   "metadata": {},
   "outputs": [
    {
     "name": "stdout",
     "output_type": "stream",
     "text": [
      "7.5\n",
      "La suma de 4 y 3.5 es igual a 7.5\n"
     ]
    }
   ],
   "source": [
    "# FUNCIONES CON PARAMETROS REQUERIDOS\n",
    "def sumar_dos_numeros(num_uno, num_dos):\n",
    "    return num_uno + num_dos\n",
    "print(sumar_dos_numeros(4,3.5))\n",
    "resultado = sumar_dos_numeros(4,3.5)\n",
    "print(f\"La suma de 4 y 3.5 es igual a {resultado}\")"
   ]
  },
  {
   "cell_type": "code",
   "execution_count": 13,
   "metadata": {},
   "outputs": [
    {
     "name": "stdout",
     "output_type": "stream",
     "text": [
      "Universidad: EPN\n",
      "Universidad: ESPE\n"
     ]
    }
   ],
   "source": [
    "# FUNCIONES CON PARAMETROS OPCIONALES\n",
    "def imprimir_universidad(nombre_universidad = \"EPN\"): # EPN será el parametro por DEFECTO\n",
    "    print(f\"Universidad: {nombre_universidad}\")\n",
    "imprimir_universidad()\n",
    "imprimir_universidad(\"ESPE\")\n",
    "    \n",
    "    "
   ]
  },
  {
   "cell_type": "code",
   "execution_count": 14,
   "metadata": {},
   "outputs": [
    {
     "name": "stdout",
     "output_type": "stream",
     "text": [
      "Color: Blanco\n",
      "Placa: ABC-1234\n",
      "Horse Power: 3000\n",
      "Año: 1989\n"
     ]
    }
   ],
   "source": [
    "# FUNCIONES CON PARAMETROS REQUERIDOS Y OPCIONALES\n",
    "# REGLA: Primero Parametros Requeridos. Luego los Parametros Opcionales\n",
    "def imprimir_carro(color, placa, hp, anio = 1989): # anio es parametro opcional/por defecto\n",
    "    print(f\"Color: {color}\")\n",
    "    print(f\"Placa: {placa}\")\n",
    "    print(f\"Horse Power: {hp}\")\n",
    "    print(f\"Año: {anio}\")\n",
    "imprimir_carro(\"Blanco\", \"ABC-1234\", 3000)"
   ]
  },
  {
   "cell_type": "code",
   "execution_count": 20,
   "metadata": {},
   "outputs": [
    {
     "name": "stdout",
     "output_type": "stream",
     "text": [
      "Color: Blanco\n",
      "Placa: DEF-456\n",
      "Horse Power: 2500\n",
      "Año: 1998\n"
     ]
    }
   ],
   "source": [
    "# Named Parameters (Parametros Nombrados)\n",
    "# SI NOMBRO los PARAMETROS, los puedo mardar en DIFERENTE orden\n",
    "imprimir_carro(anio = 1998, \n",
    "               placa = \"DEF-456\", \n",
    "               hp = 2500, \n",
    "               color = \"Blanco\")"
   ]
  },
  {
   "cell_type": "code",
   "execution_count": 23,
   "metadata": {},
   "outputs": [
    {
     "name": "stdout",
     "output_type": "stream",
     "text": [
      "Color: Negro\n",
      "Placa: ABC-123\n",
      "Horse Power: 27272\n",
      "Año: 1995\n"
     ]
    }
   ],
   "source": [
    "# REGLA: Primero parametros por POSICION -> LUEGO los demas parametros NOMBRADOS\n",
    "imprimir_carro(\"Negro\",  \"ABC-123\", anio = 1995, hp = 27272)\n",
    "# RECOMENDACION: usar solo parametros por posicion o solo parametros nombrados"
   ]
  },
  {
   "cell_type": "code",
   "execution_count": 29,
   "metadata": {},
   "outputs": [
    {
     "data": {
      "text/plain": [
       "41"
      ]
     },
     "execution_count": 29,
     "metadata": {},
     "output_type": "execute_result"
    }
   ],
   "source": [
    "# FUNCIONES CON PARAMETROS INFINITOS\n",
    "# REGLA: DESPUES del parametro INFINITO, no pueno agregar más parámetros\n",
    "def sumar_numeros (primer_numero, \n",
    "                   *numeros): # * -> Parametros INFINITOS\n",
    "    suma = primer_numero\n",
    "    for numero in numeros:\n",
    "        suma = suma + numero\n",
    "    return suma\n",
    "sumar_numeros(1, 2, 3, 4, 5, 6, 2, 3, 4, 5, 6)"
   ]
  },
  {
   "cell_type": "code",
   "execution_count": 32,
   "metadata": {},
   "outputs": [
    {
     "name": "stdout",
     "output_type": "stream",
     "text": [
      "{'saludo': 'hola', 'mensaje': 'mundo'}\n",
      "<class 'dict'>\n"
     ]
    }
   ],
   "source": [
    "# FUNCIONES Key Word ARGumentS (**kwargs) -> Devuelve un DICCIONARIO\n",
    "# REGLA: Solo mandar parametros Nombrados\n",
    "\n",
    "def establecer_configuracion(**kwargs): # Key Word Arguments -> Parametros Nombrados\n",
    "    print(kwargs)                   \n",
    "    print(type(kwargs))\n",
    "establecer_configuracion(saludo = \"hola\", mensaje = \"mundo\")"
   ]
  },
  {
   "cell_type": "code",
   "execution_count": 33,
   "metadata": {},
   "outputs": [],
   "source": [
    "# REGLAS\n",
    "# ORDEN DE PARAMETROS PARA CREAR UNA FUNCION\n",
    "def ejemplo(requerido_uno, \n",
    "           requerido_dos,\n",
    "           opcional_uno = 1,\n",
    "           opcional_dos = 2,\n",
    "           *infinitos,\n",
    "           **kwargs):\n",
    "    print(\":)\")"
   ]
  }
 ],
 "metadata": {
  "kernelspec": {
   "display_name": "Python 3",
   "language": "python",
   "name": "python3"
  },
  "language_info": {
   "codemirror_mode": {
    "name": "ipython",
    "version": 3
   },
   "file_extension": ".py",
   "mimetype": "text/x-python",
   "name": "python",
   "nbconvert_exporter": "python",
   "pygments_lexer": "ipython3",
   "version": "3.7.6"
  }
 },
 "nbformat": 4,
 "nbformat_minor": 4
}
