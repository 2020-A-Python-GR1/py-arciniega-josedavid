{
 "cells": [
  {
   "cell_type": "code",
   "execution_count": 9,
   "metadata": {},
   "outputs": [
    {
     "name": "stdout",
     "output_type": "stream",
     "text": [
      "['Buenos Dias']\n",
      "<class 'list'>\n"
     ]
    }
   ],
   "source": [
    "\n",
    "try:\n",
    "    path = \"./frases.txt\"\n",
    "    archivo_abierto = open(path)\n",
    "    # linea_uno = archivo_abierto.readline()\n",
    "    lista_lineas = archivo_abierto.readlines()\n",
    "    print(lista_lineas)\n",
    "    print(type(lista_lineas))\n",
    "    archivo_abierto.close()\n",
    "except Exception as Error:\n",
    "    print(\"Error leyendo archivo\")"
   ]
  },
  {
   "cell_type": "code",
   "execution_count": 14,
   "metadata": {},
   "outputs": [],
   "source": [
    "# Sobre Escribe en el Archivo\n",
    "try:\n",
    "    path = \"./frases.txt\"\n",
    "    archivo_abierto = open(path, 'w') # w -> write\n",
    "    archivo_abierto.write(\"Buenas Tardes\")\n",
    "    archivo_abierto.close()\n",
    "except Exception as Error:\n",
    "    print(\"Error leyendo archivo\")"
   ]
  },
  {
   "cell_type": "code",
   "execution_count": 15,
   "metadata": {},
   "outputs": [],
   "source": [
    "# Escribe a continuacion\n",
    "try:\n",
    "    path = \"./frases.txt\"\n",
    "    archivo_abierto = open(path, 'a') # a -> append\n",
    "    archivo_abierto.write(\"\\nBuenas Noches\")  # \\n -> salto de linea\n",
    "    archivo_abierto.close()\n",
    "except Exception as Error:\n",
    "    print(\"Error leyendo archivo\")"
   ]
  },
  {
   "cell_type": "code",
   "execution_count": 8,
   "metadata": {},
   "outputs": [
    {
     "name": "stdout",
     "output_type": "stream",
     "text": [
      "Ingrese Numero2\n"
     ]
    },
    {
     "ename": "AttributeError",
     "evalue": "module 'os' has no attribute 'empty'",
     "output_type": "error",
     "traceback": [
      "\u001b[1;31m---------------------------------------------------------------------------\u001b[0m",
      "\u001b[1;31mAttributeError\u001b[0m                            Traceback (most recent call last)",
      "\u001b[1;32m<ipython-input-8-9d395c0d3f6f>\u001b[0m in \u001b[0;36m<module>\u001b[1;34m\u001b[0m\n\u001b[0;32m      4\u001b[0m \u001b[1;33m\u001b[0m\u001b[0m\n\u001b[0;32m      5\u001b[0m \u001b[0mnumero_marca\u001b[0m\u001b[1;33m=\u001b[0m\u001b[0mint\u001b[0m\u001b[1;33m(\u001b[0m\u001b[0minput\u001b[0m\u001b[1;33m(\u001b[0m\u001b[1;34m\"Ingrese Numero\"\u001b[0m\u001b[1;33m)\u001b[0m\u001b[1;33m)\u001b[0m\u001b[1;33m\u001b[0m\u001b[1;33m\u001b[0m\u001b[0m\n\u001b[1;32m----> 6\u001b[1;33m \u001b[0mnombre_marca\u001b[0m\u001b[1;33m=\u001b[0m\u001b[0mestablecer_marca\u001b[0m\u001b[1;33m.\u001b[0m\u001b[0mempty\u001b[0m\u001b[1;33m(\u001b[0m\u001b[0mnumero_marca\u001b[0m\u001b[1;33m,\u001b[0m\u001b[0mdtype\u001b[0m\u001b[1;33m=\u001b[0m\u001b[1;34m'object'\u001b[0m\u001b[1;33m)\u001b[0m\u001b[1;33m\u001b[0m\u001b[1;33m\u001b[0m\u001b[0m\n\u001b[0m\u001b[0;32m      7\u001b[0m \u001b[0mtipo_mercado\u001b[0m\u001b[1;33m=\u001b[0m\u001b[0mestablecer_marca\u001b[0m\u001b[1;33m.\u001b[0m\u001b[0mempty\u001b[0m\u001b[1;33m(\u001b[0m\u001b[0mnumero_marca\u001b[0m\u001b[1;33m,\u001b[0m\u001b[0mdtype\u001b[0m\u001b[1;33m=\u001b[0m\u001b[1;34m'object'\u001b[0m\u001b[1;33m)\u001b[0m\u001b[1;33m\u001b[0m\u001b[1;33m\u001b[0m\u001b[0m\n\u001b[0;32m      8\u001b[0m \u001b[0mtop_diez\u001b[0m\u001b[1;33m=\u001b[0m\u001b[0mestablecer_marca\u001b[0m\u001b[1;33m.\u001b[0m\u001b[0mempty\u001b[0m\u001b[1;33m(\u001b[0m\u001b[0mnumero_marca\u001b[0m\u001b[1;33m,\u001b[0m\u001b[0mdtype\u001b[0m\u001b[1;33m=\u001b[0m\u001b[1;34m'object'\u001b[0m\u001b[1;33m)\u001b[0m\u001b[1;33m\u001b[0m\u001b[1;33m\u001b[0m\u001b[0m\n",
      "\u001b[1;31mAttributeError\u001b[0m: module 'os' has no attribute 'empty'"
     ]
    }
   ],
   "source": [
    "\n",
    "import os as establecer_marca\n",
    "import sys\n",
    "import fileinput\n",
    "\n",
    "numero_marca=int(input(\"Ingrese Numero\"))\n",
    "nombre_marca=establecer_marca.empty(numero_marca,dtype='object')\n",
    "tipo_mercado=establecer_marca.empty(numero_marca,dtype='object')\n",
    "top_diez=establecer_marca.empty(numero_marca,dtype='object')\n",
    "porcentaje_aceptacion=establecer_marca.empty(numero_marca,dtype='object')\n",
    "multinacional=establecer_marca.empty(numero_marca,dtype='object')\n",
    "## llenar el Arreglo\n",
    "for i in range(0,numero_marca):\n",
    "    nombre_marca[i]=input(\"Ingrese Nombre de la marca\")\n",
    "    tipo_mercado[i]=input(\"Ingrese El Mercado al que pertenece\")\n",
    "    ranking[i]=input(\"Ingrese su posicion en el Ranking\")\n",
    "    porcentaje_aceptacion[i]=input(\"Ingrese el porcentaje de aceptacion\")\n",
    "    multinacional[i]=input(\"Ingrese si es multinacional o no\")\n",
    "    \n",
    "## Mostrar el arreglo\n",
    "print(\"N°\",\"Nombre\",\"Tipo de mercado\",\"Ranking\",\"% de Aceptacion\", \"Multinacional\",sep=\"\\t\")\n",
    "for i in range(0,numero_marca):\n",
    "    print(i,nombre_marca[i],tipo_mercado[i],ranking[i],porcentaje_aceptacion[i],multinacional[i],sep=\"\\t\")\n",
    "\n",
    "    "
   ]
  },
  {
   "cell_type": "code",
   "execution_count": null,
   "metadata": {},
   "outputs": [],
   "source": [
    "import numply as marcaxd\n",
    "import os as jump\n",
    "import sys\n",
    "import fileinput\n",
    "cantidad_marcas=6\n",
    "class marca:\n",
    "    numero_marca=int\n",
    "    nombre_marca= object\n",
    "    tipo_mercado= object\n",
    "    ranking=int\n",
    "    porcentaje_aceptacion=float\n",
    "    multinacional=bool\n",
    "    def __init__(self, numero_marca,nombre_marca,tipo_mercado,ranking,porcentaje_aceptacion,\n",
    "                multinacional):\n",
    "        self.numero_marca = numero_marca\n",
    "        self.nombre_marca = nombre_marca\n",
    "        self.tipo_mercado = tipo_mercado\n",
    "        self.ranking = ranking\n",
    "        self.porcentaje_aceptacion = porcentaje_aceptacion\n",
    "        self.multinacional = multinacional\n",
    "    def establecer_marca(**kwargs):\n",
    "        numero_marca=establecer_marca.empty(cantidad_marcas,dtype='int')\n",
    "        nombre_marca=establecer_marca.empty(cantidad_marcas,dtype='string')\n",
    "        tipo_mercado=establecer_marca.empty(cantidad_marcas,dtype='string')\n",
    "        ranking=establecer_marca.empty(cantidad_marcas,dtype='int')\n",
    "        porcentaje_aceptacion=establecer_marca.empty(cantidad_marcas,dtype='float')\n",
    "        multinacional=establecer_marca.empty(cantidad_marcas,dtype='bool')\n",
    "            ## llenar el Arreglo\n",
    "    for i in range(0,cantidad_marcas):\n",
    "        nombre_marca[i]=input(\"Ingrese Nombre de la marca\")\n",
    "        tipo_mercado[i]=input(\"Ingrese El Mercado al que pertenece\")\n",
    "        ranking[i]=input(\"Ingrese su posicion en el Ranking\")\n",
    "        porcentaje_aceptacion[i]=input(\"Ingrese el porcentaje de aceptacion\")\n",
    "        multinacional[i]=input(\"Ingrese si es multinacional o no\")\n",
    "    \n",
    "    ## Mostrar el arreglo\n",
    "    print(\"N°\",\"Nombre\",\"Tipo de mercado\",\"Ranking\",\"% de Aceptacion\", \"Multinacional\",sep=\"\\t\")\n",
    "    for i in range(0,cantidad_marcas):\n",
    "        print(i,nombre_marca[i],tipo_mercado[i],ranking[i],porcentaje_aceptacion[i],multinacional[i])\n",
    "\n"
   ]
  }
 ],
 "metadata": {
  "kernelspec": {
   "display_name": "Python 3",
   "language": "python",
   "name": "python3"
  },
  "language_info": {
   "codemirror_mode": {
    "name": "ipython",
    "version": 3
   },
   "file_extension": ".py",
   "mimetype": "text/x-python",
   "name": "python",
   "nbconvert_exporter": "python",
   "pygments_lexer": "ipython3",
   "version": "3.7.6"
  }
 },
 "nbformat": 4,
 "nbformat_minor": 4
}
