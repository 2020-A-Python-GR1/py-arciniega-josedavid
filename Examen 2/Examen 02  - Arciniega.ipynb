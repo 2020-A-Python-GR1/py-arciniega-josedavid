{
 "cells": [
  {
   "cell_type": "markdown",
   "metadata": {},
   "source": [
    "\n",
    "![alt text](https://upload.wikimedia.org/wikipedia/commons/0/0a/Python.svg)\n",
    "# Examen Segundo Bimestre - PYTHON\n",
    "\n",
    "## Arciniega Jose David"
   ]
  },
  {
   "cell_type": "code",
   "execution_count": 46,
   "metadata": {},
   "outputs": [],
   "source": [
    "import pandas as pd\n",
    "import numpy as np\n",
    "import pandas.util.testing\n",
    "\n",
    "from datetime import date"
   ]
  },
  {
   "cell_type": "code",
   "execution_count": 47,
   "metadata": {},
   "outputs": [],
   "source": [
    "## 1) Crea un Dataframe de 10 registros y 6 columnas y consigue las 5 primeros y los 5 ultimos registros\n",
    "\n",
    "arreglo1 = np.random.randint(0, 10, 60).reshape(10,6)\n",
    "\n",
    "df1 = pd.DataFrame(arreglo)\n",
    "\n",
    "cinco_primeros = df1.head()\n",
    "\n",
    "cinco_ultimos = df1.tail()"
   ]
  },
  {
   "cell_type": "code",
   "execution_count": 48,
   "metadata": {},
   "outputs": [],
   "source": [
    "## 2) Crear un dataframe pasando un arreglo de numpy de 6 x 4 con una fecha como indice y con columnas A, B, C, D randomico\n",
    "\n",
    "arreglo2 = np.random.randint(0,10,24).reshape(6, 4)\n",
    "\n",
    "columnas = ['A', 'B', 'C', 'D']\n",
    "\n",
    "\n",
    "indices = [date.today().strftime(\"%Y-%m-%d\"),\n",
    "           date.today().strftime(\"%B %d, %Y\"),\n",
    "           date.today().strftime(\"%B %d, %Y\"),\n",
    "           date.today().strftime(\"%B %d, %Y\"),\n",
    "           date.today().strftime(\"%B %d, %Y\"),\n",
    "           date.today().strftime(\"%B %d, %Y\")\n",
    "        ]\n",
    "\n",
    "\n",
    "df2 = pd.DataFrame(\n",
    "        arreglo2,\n",
    "        columns = columnas,\n",
    "        index = indices\n",
    "        )"
   ]
  },
  {
   "cell_type": "code",
   "execution_count": 49,
   "metadata": {},
   "outputs": [],
   "source": [
    "## 4) Crear un Dataframe con 10 registros y 6 columnas y con una propiedad del Dataframe mostrar las columnas, con otro comando mostrar los valores.\n",
    "\n",
    "arreglo4 = np.random.randint(0,10,60).reshape(10, 6)\n",
    "\n",
    "df4 = pd.DataFrame(arreglo3)\n",
    "\n",
    "columnas_df4 = df4.columns.values\n",
    "\n",
    "valores = df4.values"
   ]
  },
  {
   "cell_type": "code",
   "execution_count": 50,
   "metadata": {},
   "outputs": [],
   "source": [
    "## 5) Crear un Dataframe con 10 registros y 6 columnas y con una funcion del Dataframe describir estadisticamente el Dataframe\n",
    "\n",
    "arreglo5 = np.random.randint(0,10,60).reshape(10, 6)\n",
    "\n",
    "df5 = pd.DataFrame(arreglo4)\n",
    "\n",
    "descripcion_df = df5.describe()"
   ]
  },
  {
   "cell_type": "code",
   "execution_count": 51,
   "metadata": {},
   "outputs": [],
   "source": [
    "## 6) Crear un Dataframe con 10 registros y 6 columnas y con una funcion del Dataframe transponer los datos\n",
    "\n",
    "arreglo6 = np.random.randint(0,10,60).reshape(10, 6)\n",
    "\n",
    "df6 = pd.DataFrame(arreglo5)\n",
    "\n",
    "df6_transpuesto = df6.transpose()"
   ]
  },
  {
   "cell_type": "code",
   "execution_count": 52,
   "metadata": {},
   "outputs": [],
   "source": [
    "## 7) Crear un Dataframe con 10 registros y 6 columnas y Ordenar el dataframe 1 vez por cada columna, ascendente y descendente\n",
    "\n",
    "arreglo7 = np.random.randint(0,10,60).reshape(10, 6)\n",
    "\n",
    "df7 = pd.DataFrame(arreglo7)\n",
    "\n",
    "df7_ascendente = df7.apply(lambda x: x.sort_values().values)\n",
    "df7_descendente = df7.apply(lambda x: x.sort_values(ascending = False).values)\n"
   ]
  },
  {
   "cell_type": "code",
   "execution_count": 53,
   "metadata": {},
   "outputs": [],
   "source": [
    "## 8) Crear un Dataframe con 10 registros y 6 columnas llenas de números randomicos del 1 al 10 y seleccionar en un nuevo Dataframe solo los valores mayores a 7\n",
    "\n",
    "arreglo8 = np.random.randint(1,10,60).reshape(10, 6)\n",
    "\n",
    "df8 = pd.DataFrame(arreglo8)\n",
    "\n",
    "mayores_a_7 = df8 > 7\n",
    "\n",
    "df_mayores_7 = df8[mayores_a_7]\n"
   ]
  },
  {
   "cell_type": "code",
   "execution_count": 54,
   "metadata": {},
   "outputs": [],
   "source": [
    "## 9) Crear un Dataframe con 10 registros y 6 columnas llenas de números randomicos del 1 al 10 o valores NaN. Luego llenar los valores NaN con 0.\n",
    "\n",
    "arreglo9 = np.random.randint(1,10,60).reshape(10, 6)\n",
    "df9 = pd.DataFrame(arreglo8)\n",
    "mayores_a_5 = df9 > 5\n",
    "df9_nan = df8[mayores_a_5]\n",
    "\n",
    "df9_con_0 = df9_nan.fillna(0)\n"
   ]
  },
  {
   "cell_type": "code",
   "execution_count": 55,
   "metadata": {},
   "outputs": [],
   "source": [
    "## 10) Crear un Dataframe con 10 registros y 6 columnas llenas de números randomicos del 1 al 10 y sacar la media, la mediana, el promedio\n",
    "\n",
    "\n",
    "arreglo10 = np.random.randint(0,10,60).reshape(10, 6)\n",
    "\n",
    "df10 = pd.DataFrame(arreglo9)\n",
    "\n",
    "media = df10.mean()\n",
    "\n",
    "mediana = df10.median()\n",
    "\n",
    "promedio = df10.mean()\n"
   ]
  },
  {
   "cell_type": "code",
   "execution_count": 56,
   "metadata": {},
   "outputs": [],
   "source": [
    "## 11) Crear un Dataframe con 10 registros y 6 columnas llenas de números randomicos del 1 al 10, luego crear otro dateframe con 10 registros y 6 columnas llenas de números randomicos del 1 al 10 y anadirlo al primer Dataframe\n",
    "\n",
    "arreglo11_1 = np.random.randint(1,10,60).reshape(10, 6)\n",
    "df11_1 = pd.DataFrame(arreglo11_1)\n",
    "arreglo11_2 = np.random.randint(1,10,60).reshape(10, 6)\n",
    "df11_2 = pd.DataFrame(arreglo11_2)\n",
    "\n",
    "df11_final = df11_1.append(df11_2)\n",
    "\n",
    "\n"
   ]
  },
  {
   "cell_type": "code",
   "execution_count": 57,
   "metadata": {},
   "outputs": [],
   "source": [
    "## 12) Crear un Dataframe con 10 registros y 6 columnas llenas de strings. Luego, unir la columna 1 y 2 en una sola, la 3 y 4, y la 5 y 6 concatenando su texto.\n",
    "\n",
    "\n",
    "s_arr = pd.util.testing.rands_array(3, 60).reshape(10,6)\n",
    "\n",
    "df12 = pd.DataFrame(s_arr)\n",
    "\n",
    "df12_final = pd.DataFrame(df12[0] + df12[1])\n",
    "\n",
    "df12_final[1] = df12[2] + df12[3]\n",
    "\n",
    "df12_final[2] = df12[4] + df12[5]\n",
    "        \n",
    "   "
   ]
  },
  {
   "cell_type": "code",
   "execution_count": 58,
   "metadata": {},
   "outputs": [
    {
     "name": "stdout",
     "output_type": "stream",
     "text": [
      "Columna 0\n",
      "5    4\n",
      "3    2\n",
      "2    2\n",
      "9    1\n",
      "7    1\n",
      "Name: 0, dtype: int64\n",
      "Columna 1\n",
      "6    3\n",
      "2    3\n",
      "9    2\n",
      "5    1\n",
      "0    1\n",
      "Name: 1, dtype: int64\n",
      "Columna 2\n",
      "7    4\n",
      "8    1\n",
      "6    1\n",
      "5    1\n",
      "4    1\n",
      "3    1\n",
      "2    1\n",
      "Name: 2, dtype: int64\n",
      "Columna 3\n",
      "4    2\n",
      "3    2\n",
      "2    2\n",
      "9    1\n",
      "6    1\n",
      "5    1\n",
      "0    1\n",
      "Name: 3, dtype: int64\n",
      "Columna 4\n",
      "1    3\n",
      "9    2\n",
      "8    2\n",
      "6    1\n",
      "5    1\n",
      "2    1\n",
      "Name: 4, dtype: int64\n",
      "Columna 5\n",
      "6    2\n",
      "2    2\n",
      "9    1\n",
      "7    1\n",
      "5    1\n",
      "4    1\n",
      "3    1\n",
      "0    1\n",
      "Name: 5, dtype: int64\n"
     ]
    }
   ],
   "source": [
    "## 13) Crear un Dataframe con 10 registros y 6 columnas llenas de números randomicos del 1 al 10 enteros, obtener la frecuencia de repeticion de los numeros enteros en cada columna\n",
    "\n",
    "arreglo13 = np.random.randint(0,10,60).reshape(10, 6)\n",
    "\n",
    "df13 = pd.DataFrame(arreglo13)\n",
    "\n",
    "for column in df13.columns:\n",
    "    \n",
    "    print(\"Columna \" + str(column))\n",
    "    \n",
    "    print(df13[column].value_counts())\n",
    "\n"
   ]
  },
  {
   "cell_type": "code",
   "execution_count": 44,
   "metadata": {},
   "outputs": [
    {
     "name": "stdout",
     "output_type": "stream",
     "text": [
      "6\n",
      "[6.0, 1.0, 4.285714285714286, 3.2, 31.5, 11.2, 3.5555555555555554, 2.0, 2.6666666666666665, 1.4285714285714286]\n"
     ]
    }
   ],
   "source": [
    "## 14) Crear un Dataframe con 10 registros y 3 columnas, A B C, llenas de números randomicos del 1 al 10 enteros. Crear una nueva columna con el calculo por fila (A * B ) / C\n",
    "\n",
    "arreglo14 = np.random.randint(1,10,30).reshape(10, 3)\n",
    "\n",
    "df14 = pd.DataFrame(arreglo14, columns = ['A', 'B', 'C'])\n",
    "\n",
    "print(df14['A'][0])\n",
    "\n",
    "resultados = []\n",
    "\n",
    "for index in df14.index:\n",
    "    \n",
    "    resultados.append((df14['A'][index] * df14['B'][index]) / df14['C'][index] )\n",
    "    \n",
    "print(resultados)\n",
    "\n",
    "df14['Resultados'] = resultados\n"
   ]
  },
  {
   "cell_type": "code",
   "execution_count": null,
   "metadata": {},
   "outputs": [],
   "source": []
  }
 ],
 "metadata": {
  "kernelspec": {
   "display_name": "Python 3",
   "language": "python",
   "name": "python3"
  },
  "language_info": {
   "codemirror_mode": {
    "name": "ipython",
    "version": 3
   },
   "file_extension": ".py",
   "mimetype": "text/x-python",
   "name": "python",
   "nbconvert_exporter": "python",
   "pygments_lexer": "ipython3",
   "version": "3.7.6"
  }
 },
 "nbformat": 4,
 "nbformat_minor": 4
}
