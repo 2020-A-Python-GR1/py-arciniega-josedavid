{
 "cells": [
  {
   "cell_type": "code",
   "execution_count": 6,
   "metadata": {},
   "outputs": [],
   "source": [
    "import numpy as np"
   ]
  },
  {
   "cell_type": "code",
   "execution_count": 8,
   "metadata": {},
   "outputs": [
    {
     "name": "stdout",
     "output_type": "stream",
     "text": [
      "ingerer marcaFedEx\n"
     ]
    },
    {
     "data": {
      "text/plain": [
       "{'FedEx': ['Entregas', 'azul', 'naranja', 3, True, 3.5],\n",
       " 'Zara': ['Ropa', 'negro', 'blanco', 6, True, 4.3],\n",
       " 'McDonals': ['Alimentos', 'amarillo', 'rojo', 2, True, 7.8],\n",
       " 'CocaCola': ['Bebidas', 'rojo', 'blanco', 1, True, 15.9],\n",
       " 'Netflix': ['Entretenimiento', 'rojo', 'negro', 1, True, 21.2]}"
      ]
     },
     "execution_count": 8,
     "metadata": {},
     "output_type": "execute_result"
    }
   ],
   "source": [
    "# FedEx\tEntregas\tazul\tnaranja\t3\tTrue\t3.5\n",
    "# Zara\tRopa\tnegro\tblanco\t6\tTrue\t4.3\n",
    "# McDonals\tAlimentos\tamarillo\trojo\t2\tTrue\t7.8\n",
    "# CocaCola\tBebidas\trojo\tblanco\t1\tTrue\t15.9\n",
    "# Netflix\tEntretenimiento\trojo\tnegro\t1\tTrue\t21.2\n",
    "ns=input(\"ingerer marca\")\n",
    "marcas12 = {\n",
    "    ns : ['Entregas', 'azul', 'naranja', 3, True, 3.5],\n",
    "    'Zara': ['Ropa', 'negro', 'blanco', 6, True, 4.3],\n",
    "    'McDonals': ['Alimentos', 'amarillo', 'rojo', 2, True, 7.8],\n",
    "    'CocaCola': ['Bebidas', 'rojo', 'blanco', 1, True, 15.9],\n",
    "    'Netflix': ['Entretenimiento', 'rojo', 'negro', 1, True, 21.2]\n",
    "}\n",
    "marcas12"
   ]
  },
  {
   "cell_type": "code",
   "execution_count": 53,
   "metadata": {},
   "outputs": [
    {
     "name": "stdout",
     "output_type": "stream",
     "text": [
      "[5]\n"
     ]
    }
   ],
   "source": [
    "# FUNCIONES CON PARAMETROS INFINITOS\n",
    "# REGLA: Primero parametros normales, DESPUES del parametro INFINITO, no pueno agregar más parámetros\n",
    "def sumar_numeros (*numeros): # * -> Parametros INFINITOS\n",
    "    suma = 0\n",
    "    for numero in numeros:\n",
    "        suma = suma + numero\n",
    "    print(type(numeros)) # numeros -> TUPLA\n",
    "    print(numeros)\n",
    "    return suma\n",
    "\n",
    "np.array([5])\n",
    "sumar_numeros(1, 2, 3, 4, 5, 6,)"
   ]
  },
  {
   "cell_type": "code",
   "execution_count": 1,
   "metadata": {},
   "outputs": [],
   "source": [
    "from tkinter import *\n",
    "from tkinter import messagebox\n",
    "from io import open\n",
    "import sqlite3\n",
    "root = Tk()\n",
    "\n",
    "root.mainloop()"
   ]
  },
  {
   "cell_type": "code",
   "execution_count": 6,
   "metadata": {},
   "outputs": [
    {
     "name": "stdout",
     "output_type": "stream",
     "text": [
      "Empezo el constructor\n",
      "Azul\n",
      "180.0\n",
      "\n",
      "Color: Azul\n",
      "Numero Chasis: 120\n",
      "\n",
      "<class '__main__.Auto'>\n",
      "<class 'type'>\n"
     ]
    }
   ],
   "source": [
    "class Auto:\n",
    "    \n",
    "    color=None\n",
    "    __numero_chasis = 1\n",
    "    \n",
    "    def __init__(self, color):\n",
    "        print(\"Empezo el constructor\")\n",
    "        self.color = color\n",
    "        \n",
    "    def setear_chasis(self, numero_chasis):\n",
    "        self.__numero_chasis = numero_chasis\n",
    "        return self.__calculo_chasis()\n",
    "    \n",
    "    def __calculo_chasis(self):\n",
    "        return self.__numero_chasis * 1.5\n",
    "    \n",
    "    def __str__(self):\n",
    "        parte_uno = f\"\\nColor: {self.color}\"\n",
    "        parte_dos = f\"\\nNumero Chasis: {self.__numero_chasis}\"\n",
    "        return parte_uno + parte_dos\n",
    "    \n",
    "nuevo_auto = Auto('Azul')\n",
    "print(nuevo_auto.color)\n",
    "print(nuevo_auto.setear_chasis(120))\n",
    "print(nuevo_auto)\n",
    "\n",
    "print(f\"\\n{Auto}\")\n",
    "print(type(Auto))\n"
   ]
  },
  {
   "cell_type": "code",
   "execution_count": null,
   "metadata": {},
   "outputs": [],
   "source": [
    "class Marca:\n",
    "    nombre = None\n",
    "    indrutria = None\n",
    "    color_uno = None\n",
    "    color_dos = None\n",
    "    ranking = None\n",
    "    \n",
    "    \n",
    "    \n",
    "    \n",
    "    "
   ]
  },
  {
   "cell_type": "code",
   "execution_count": null,
   "metadata": {},
   "outputs": [],
   "source": [
    "## LLENAR DICCIONARIO DE MARCAS\n",
    "def agregar_marcas(*marcas):\n",
    "    for marca in mascas:\n",
    "    print(marcas)\n",
    "\n",
    "\n",
    "    \n",
    "    \n",
    "\n"
   ]
  },
  {
   "cell_type": "code",
   "execution_count": null,
   "metadata": {},
   "outputs": [],
   "source": []
  },
  {
   "cell_type": "code",
   "execution_count": null,
   "metadata": {},
   "outputs": [],
   "source": []
  },
  {
   "cell_type": "code",
   "execution_count": null,
   "metadata": {},
   "outputs": [],
   "source": []
  },
  {
   "cell_type": "code",
   "execution_count": null,
   "metadata": {},
   "outputs": [],
   "source": []
  }
 ],
 "metadata": {
  "kernelspec": {
   "display_name": "Python 3",
   "language": "python",
   "name": "python3"
  },
  "language_info": {
   "codemirror_mode": {
    "name": "ipython",
    "version": 3
   },
   "file_extension": ".py",
   "mimetype": "text/x-python",
   "name": "python",
   "nbconvert_exporter": "python",
   "pygments_lexer": "ipython3",
   "version": "3.7.6"
  }
 },
 "nbformat": 4,
 "nbformat_minor": 4
}
