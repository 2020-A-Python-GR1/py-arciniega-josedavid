{
 "cells": [
  {
   "cell_type": "code",
   "execution_count": 23,
   "metadata": {},
   "outputs": [
    {
     "name": "stdout",
     "output_type": "stream",
     "text": [
      "Ingrese el nombre de la marca: rererere\n",
      "Ingrese la Industria de la marca: asd\n",
      "Ingrese el color Principal de la marca: s\n",
      "Ingrese el color Secundario de la marca: a\n",
      "Ingrese la posición de la marca en el mercado mundial: a\n",
      "La marca es de una empresa multinacional? : a\n",
      "Ingrese el nivel de aceptacion de la marca: a\n"
     ]
    }
   ],
   "source": [
    "def ingresar_valores_marca():\n",
    "    nombre_marca = input('Ingrese el nombre de la marca: ')\n",
    "    indrutria = input('Ingrese la Industria de la marca: ')\n",
    "    color_uno = input('Ingrese el color Principal de la marca: ')\n",
    "    color_dos = input('Ingrese el color Secundario de la marca: ')\n",
    "    ranking = input('Ingrese la posición de la marca en el mercado mundial: ')\n",
    "    multnacional = input('La marca es de una empresa multinacional? : ')\n",
    "    aceptacion = input('Ingrese el nivel de aceptacion de la marca: ')\n",
    "    \n",
    "    lista_marcas = [nombre_marca]\n",
    "    branding = [indrutria,color_uno,color_dos,ranking,multnacional,aceptacion]\n",
    "    \n",
    "    marcas = {lista_marcas[0] : branding}\n",
    "    \n",
    "    try:\n",
    "        path = \"./marcas.txt\"\n",
    "        archivo_abierto = open(path, 'a')\n",
    "        archivo_abierto.write(lista_marcas[0])\n",
    "        archivo_abierto.close()\n",
    "    except Exception as Error:\n",
    "            print(\"Error leyendo archivo\")\n",
    "    \n",
    "ingresar_valores_marca() \n"
   ]
  },
  {
   "cell_type": "code",
   "execution_count": 20,
   "metadata": {},
   "outputs": [
    {
     "data": {
      "text/plain": [
       "{'fedex': ['transporte', 'azul', 'naranja', 'fedex', 'si', '123']}"
      ]
     },
     "execution_count": 20,
     "metadata": {},
     "output_type": "execute_result"
    }
   ],
   "source": [
    "marcas"
   ]
  },
  {
   "cell_type": "code",
   "execution_count": null,
   "metadata": {},
   "outputs": [],
   "source": []
  }
 ],
 "metadata": {
  "kernelspec": {
   "display_name": "Python 3",
   "language": "python",
   "name": "python3"
  },
  "language_info": {
   "codemirror_mode": {
    "name": "ipython",
    "version": 3
   },
   "file_extension": ".py",
   "mimetype": "text/x-python",
   "name": "python",
   "nbconvert_exporter": "python",
   "pygments_lexer": "ipython3",
   "version": "3.7.6"
  }
 },
 "nbformat": 4,
 "nbformat_minor": 4
}
