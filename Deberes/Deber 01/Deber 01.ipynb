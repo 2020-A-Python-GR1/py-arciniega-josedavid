{
 "cells": [
  {
   "cell_type": "code",
   "execution_count": null,
   "metadata": {},
   "outputs": [],
   "source": [
    "import numply as marcaxd\n",
    "import os as jump\n",
    "import sys\n",
    "import fileinput\n",
    "cantidad_marcas=6\n",
    "class marca:\n",
    "    numero_marca=int\n",
    "    nombre_marca= object\n",
    "    tipo_mercado= object\n",
    "    ranking=int\n",
    "    porcentaje_aceptacion=float\n",
    "    multinacional=bool\n",
    "    def __init__(self, numero_marca,nombre_marca,tipo_mercado,ranking,porcentaje_aceptacion,\n",
    "                multinacional):\n",
    "        self.numero_marca = numero_marca\n",
    "        self.nombre_marca = nombre_marca\n",
    "        self.tipo_mercado = tipo_mercado\n",
    "        self.ranking = ranking\n",
    "        self.porcentaje_aceptacion = porcentaje_aceptacion\n",
    "        self.multinacional = multinacional\n",
    "    def establecer_marca(**kwargs):\n",
    "        numero_marca=establecer_marca.empty(cantidad_marcas,dtype='int')\n",
    "        nombre_marca=establecer_marca.empty(cantidad_marcas,dtype='string')\n",
    "        tipo_mercado=establecer_marca.empty(cantidad_marcas,dtype='string')\n",
    "        ranking=establecer_marca.empty(cantidad_marcas,dtype='int')\n",
    "        porcentaje_aceptacion=establecer_marca.empty(cantidad_marcas,dtype='float')\n",
    "        multinacional=establecer_marca.empty(cantidad_marcas,dtype='bool')\n",
    "            ## llenar el Arreglo\n",
    "    for i in range(0,cantidad_marcas):\n",
    "        nombre_marca[i]=input(\"Ingrese Nombre de la marca\")\n",
    "        tipo_mercado[i]=input(\"Ingrese El Mercado al que pertenece\")\n",
    "        ranking[i]=input(\"Ingrese su posicion en el Ranking\")\n",
    "        porcentaje_aceptacion[i]=input(\"Ingrese el porcentaje de aceptacion\")\n",
    "        multinacional[i]=input(\"Ingrese si es multinacional o no\")\n",
    "    \n",
    "    ## Mostrar el arreglo\n",
    "    print(\"N°\",\"Nombre\",\"Tipo de mercado\",\"Ranking\",\"% de Aceptacion\", \"Multinacional\",sep=\"\\t\")\n",
    "    for i in range(0,cantidad_marcas):\n",
    "        print(i,nombre_marca[i],tipo_mercado[i],ranking[i],porcentaje_aceptacion[i],multinacional[i])\n",
    "\n"
   ]
  },
  {
   "cell_type": "code",
   "execution_count": null,
   "metadata": {},
   "outputs": [],
   "source": [
    "import numply as establecer_marca\n",
    "\n",
    "numero_marca=int(input(\"Ingrese Numero\"))\n",
    "nombre_marca=establecer_marca.empty(numero_marca,dtype='object')\n",
    "tipo_mercado=establecer_marca.empty(numero_marca,dtype='object')\n",
    "top_diez=establecer_marca.empty(numero_marca,dtype='object')\n",
    "porcentaje_aceptacion=establecer_marca.empty(numero_marca,dtype='object')\n",
    "multinacional=establecer_marca.empty(numero_marca,dtype='object')\n",
    "## llenar el Arreglo\n",
    "for i in range(0,numero_marca):\n",
    "    nombre_marca[i]=input(\"Ingrese Nombre de la marca\")\n",
    "    tipo_mercado[i]=input(\"Ingrese El Mercado al que pertenece\")\n",
    "    ranking[i]=input(\"Ingrese su posicion en el Ranking\")\n",
    "    porcentaje_aceptacion[i]=input(\"Ingrese el porcentaje de aceptacion\")\n",
    "    multinacional[i]=input(\"Ingrese si es multinacional o no\")\n",
    "    \n",
    "## Mostrar el arreglo\n",
    "print(\"N°\",\"Nombre\",\"Tipo de mercado\",\"Ranking\",\"% de Aceptacion\", \"Multinacional\",sep=\"\\t\")\n",
    "for i in range(0,numero_marca):\n",
    "    print(i,nombre_marca[i],tipo_mercado[i],ranking[i],porcentaje_aceptacion[i],multinacional[i],sep=\"\\t\")\n",
    "\n",
    "    "
   ]
  },
  {
   "cell_type": "code",
   "execution_count": null,
   "metadata": {},
   "outputs": [],
   "source": []
  }
 ],
 "metadata": {
  "kernelspec": {
   "display_name": "Python 3",
   "language": "python",
   "name": "python3"
  },
  "language_info": {
   "codemirror_mode": {
    "name": "ipython",
    "version": 3
   },
   "file_extension": ".py",
   "mimetype": "text/x-python",
   "name": "python",
   "nbconvert_exporter": "python",
   "pygments_lexer": "ipython3",
   "version": "3.7.6"
  }
 },
 "nbformat": 4,
 "nbformat_minor": 4
}
