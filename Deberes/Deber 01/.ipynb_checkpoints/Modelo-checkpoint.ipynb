{
 "cells": [
  {
   "cell_type": "code",
   "execution_count": 13,
   "metadata": {},
   "outputs": [
    {
     "name": "stdout",
     "output_type": "stream",
     "text": [
      "Ingrese el nombre de la marca: dfsasdg\n",
      "Ingrese la Industria de la marca: sdafdsa\n",
      "Ingrese el color Principal de la marca: sadfads\n",
      "Ingrese el color Secundario de la marca: sadfdsa\n",
      "Ingrese el nombre de la marca: asdf\n",
      "La marca es de una empresa multinacional? : sdaf\n",
      "Ingrese el nivel de aceptacion de la marca: sdf\n"
     ]
    },
    {
     "data": {
      "text/plain": [
       "{'dfsasdg': ['sdafdsa', 'sadfads', 'sadfdsa', 'asdf', 'sdaf', 'sdf']}"
      ]
     },
     "execution_count": 13,
     "metadata": {},
     "output_type": "execute_result"
    }
   ],
   "source": [
    "nombre_marca = input('Ingrese el nombre de la marca: ')\n",
    "indrutria = input('Ingrese la Industria de la marca: ')\n",
    "color_uno = input('Ingrese el color Principal de la marca: ')\n",
    "color_dos = input('Ingrese el color Secundario de la marca: ')\n",
    "ranking = input('Ingrese el nombre de la marca: ')\n",
    "multnacional = input('La marca es de una empresa multinacional? : ')\n",
    "aceptacion = input('Ingrese el nivel de aceptacion de la marca: ')\n",
    "\n",
    "branding = [indrutria,color_uno,color_dos,ranking,multnacional,aceptacion]\n",
    "\n",
    "marcas = {\n",
    "    nombre_marca : branding\n",
    "}\n",
    "marcas\n"
   ]
  },
  {
   "cell_type": "code",
   "execution_count": null,
   "metadata": {},
   "outputs": [],
   "source": []
  },
  {
   "cell_type": "code",
   "execution_count": null,
   "metadata": {},
   "outputs": [],
   "source": []
  }
 ],
 "metadata": {
  "kernelspec": {
   "display_name": "Python 3",
   "language": "python",
   "name": "python3"
  },
  "language_info": {
   "codemirror_mode": {
    "name": "ipython",
    "version": 3
   },
   "file_extension": ".py",
   "mimetype": "text/x-python",
   "name": "python",
   "nbconvert_exporter": "python",
   "pygments_lexer": "ipython3",
   "version": "3.7.6"
  }
 },
 "nbformat": 4,
 "nbformat_minor": 4
}
