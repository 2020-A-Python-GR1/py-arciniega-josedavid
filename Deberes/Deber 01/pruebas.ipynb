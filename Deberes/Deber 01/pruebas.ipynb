{
 "cells": [
  {
   "cell_type": "code",
   "execution_count": 13,
   "metadata": {},
   "outputs": [
    {
     "name": "stdout",
     "output_type": "stream",
     "text": [
      "Ingrese su Nombre swsx\n",
      "Introduce tu numero 2\n",
      "¿Cuántos deportes? 2\n",
      "Deporte: wsx\n",
      "Deporte: wsxwsxws\n"
     ]
    }
   ],
   "source": [
    "archivo = open(\"textoprueba.txt\",\"w\")\n",
    "archivo.write(\"Hola Mundo\\n\")\n",
    "archivo.write(\"Saludos desde CCTMexico\\n\")\n",
    "nombre = input(\"Ingrese su Nombre \")\n",
    "archivo.write (nombre + '\\n')\n",
    "numero=int(input(\"Introduce tu numero \"))\n",
    "archivo.write(\"numero = %s\" %numero+'\\n')\n",
    "n=int(input(\"¿Cuántos deportes? \"))\n",
    "deportes = []\n",
    "for i in range(n):\n",
    "        deporte = input (\"Deporte: \")\n",
    "        deportes.append(deporte)\n",
    "archivo.write(\"deportes = %s\" % deportes)\n",
    "archivo.close()\n"
   ]
  },
  {
   "cell_type": "code",
   "execution_count": null,
   "metadata": {},
   "outputs": [],
   "source": []
  }
 ],
 "metadata": {
  "kernelspec": {
   "display_name": "Python 3",
   "language": "python",
   "name": "python3"
  },
  "language_info": {
   "codemirror_mode": {
    "name": "ipython",
    "version": 3
   },
   "file_extension": ".py",
   "mimetype": "text/x-python",
   "name": "python",
   "nbconvert_exporter": "python",
   "pygments_lexer": "ipython3",
   "version": "3.7.6"
  }
 },
 "nbformat": 4,
 "nbformat_minor": 4
}
